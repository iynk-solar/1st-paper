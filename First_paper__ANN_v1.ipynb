{
  "nbformat": 4,
  "nbformat_minor": 0,
  "metadata": {
    "colab": {
      "name": "second_paper_ ANN_v1.ipynb",
      "provenance": [],
      "collapsed_sections": [],
      "mount_file_id": "1-ICfiJkeDlz_FICacDC1IZRY6yN7M03o",
      "authorship_tag": "ABX9TyOtDBvMc2CaWSpPP4Dd6VYH",
      "include_colab_link": true
    },
    "kernelspec": {
      "name": "python3",
      "display_name": "Python 3"
    },
    "language_info": {
      "name": "python"
    }
  },
  "cells": [
    {
      "cell_type": "markdown",
      "metadata": {
        "id": "view-in-github",
        "colab_type": "text"
      },
      "source": [
        "<a href=\"https://colab.research.google.com/github/iynk-solar/1st-paper/blob/main/First_paper__ANN_v1.ipynb\" target=\"_parent\"><img src=\"https://colab.research.google.com/assets/colab-badge.svg\" alt=\"Open In Colab\"/></a>"
      ]
    },
    {
      "cell_type": "code",
      "metadata": {
        "id": "Nz10QbH7hn6C"
      },
      "source": [
        "import pandas as pd\n",
        "import numpy as np\n",
        "import tensorflow as tf\n",
        "from keras.layers import Dense, Activation, BatchNormalization, Dropout\n",
        "from keras import regularizers\n",
        "#from keras.optimizers import  RMSprop, Adam, SGD\n",
        "from keras.optimizers import  rmsprop_v2,adam_v2\n",
        "import datetime\n",
        "import matplotlib.pyplot as plt\n",
        "import seaborn as sns\n",
        "from keras.wrappers.scikit_learn import KerasClassifier, KerasRegressor\n",
        "import timeit\n"
      ],
      "execution_count": null,
      "outputs": []
    },
    {
      "cell_type": "code",
      "source": [
        "from google.colab import files\n",
        "uploaded = files.upload()  # needs to load s1, s1_without_zeros, s2 ,...."
      ],
      "metadata": {
        "colab": {
          "base_uri": "https://localhost:8080/",
          "resources": {
            "http://localhost:8080/nbextensions/google.colab/files.js": {
              "data": "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",
              "ok": true,
              "headers": [
                [
                  "content-type",
                  "application/javascript"
                ]
              ],
              "status": 200,
              "status_text": ""
            }
          },
          "height": 73
        },
        "id": "oF4_8DtBf-3W",
        "outputId": "e576cc1f-2ecc-432d-b468-7e613634a440"
      },
      "execution_count": null,
      "outputs": [
        {
          "output_type": "display_data",
          "data": {
            "text/plain": [
              "<IPython.core.display.HTML object>"
            ],
            "text/html": [
              "\n",
              "     <input type=\"file\" id=\"files-dc16348e-7f59-4b29-ae71-46a9ece5df6c\" name=\"files[]\" multiple disabled\n",
              "        style=\"border:none\" />\n",
              "     <output id=\"result-dc16348e-7f59-4b29-ae71-46a9ece5df6c\">\n",
              "      Upload widget is only available when the cell has been executed in the\n",
              "      current browser session. Please rerun this cell to enable.\n",
              "      </output>\n",
              "      <script src=\"/nbextensions/google.colab/files.js\"></script> "
            ]
          },
          "metadata": {}
        },
        {
          "output_type": "stream",
          "name": "stdout",
          "text": [
            "Saving s44.csv to s44.csv\n"
          ]
        }
      ]
    },
    {
      "cell_type": "code",
      "source": [
        ""
      ],
      "metadata": {
        "id": "sSZGeTpPzlD1"
      },
      "execution_count": null,
      "outputs": []
    },
    {
      "cell_type": "code",
      "source": [
        ""
      ],
      "metadata": {
        "id": "fKFaHtLuz1zz"
      },
      "execution_count": null,
      "outputs": []
    },
    {
      "cell_type": "code",
      "metadata": {
        "colab": {
          "base_uri": "https://localhost:8080/",
          "height": 143
        },
        "id": "OpLAQgjYiRsg",
        "outputId": "163cbd45-fcef-4bfd-80e9-fadce54d511d"
      },
      "source": [
        "dts = pd.read_csv('s44.csv')  # s1_without_zeros.csv\n",
        "#dts = pd.read_csv('s44_without_zeros.csv') \n",
        "dts.head(3)"
      ],
      "execution_count": null,
      "outputs": [
        {
          "output_type": "execute_result",
          "data": {
            "text/plain": [
              "   Irradi  Glob  BoMT2  Wind Dir   Irradi PA  Pressure  BoMT  AVG irradi  \\\n",
              "0             0   15.5        139          0      1009  16.2           0   \n",
              "1             0   15.7        126          0      1009  16.3           0   \n",
              "2             0   15.9        120          0      1009  16.4           0   \n",
              "\n",
              "   Rainfall  Humidity  Amp Temp  S4INV4  \n",
              "0    3481.8        87      17.1     0.0  \n",
              "1    3481.8        86      17.0     0.0  \n",
              "2    3481.8        86      17.2     0.0  "
            ],
            "text/html": [
              "\n",
              "  <div id=\"df-77201906-335f-4915-bbb6-23c3f6b18f0b\">\n",
              "    <div class=\"colab-df-container\">\n",
              "      <div>\n",
              "<style scoped>\n",
              "    .dataframe tbody tr th:only-of-type {\n",
              "        vertical-align: middle;\n",
              "    }\n",
              "\n",
              "    .dataframe tbody tr th {\n",
              "        vertical-align: top;\n",
              "    }\n",
              "\n",
              "    .dataframe thead th {\n",
              "        text-align: right;\n",
              "    }\n",
              "</style>\n",
              "<table border=\"1\" class=\"dataframe\">\n",
              "  <thead>\n",
              "    <tr style=\"text-align: right;\">\n",
              "      <th></th>\n",
              "      <th>Irradi  Glob</th>\n",
              "      <th>BoMT2</th>\n",
              "      <th>Wind Dir</th>\n",
              "      <th>Irradi PA</th>\n",
              "      <th>Pressure</th>\n",
              "      <th>BoMT</th>\n",
              "      <th>AVG irradi</th>\n",
              "      <th>Rainfall</th>\n",
              "      <th>Humidity</th>\n",
              "      <th>Amp Temp</th>\n",
              "      <th>S4INV4</th>\n",
              "    </tr>\n",
              "  </thead>\n",
              "  <tbody>\n",
              "    <tr>\n",
              "      <th>0</th>\n",
              "      <td>0</td>\n",
              "      <td>15.5</td>\n",
              "      <td>139</td>\n",
              "      <td>0</td>\n",
              "      <td>1009</td>\n",
              "      <td>16.2</td>\n",
              "      <td>0</td>\n",
              "      <td>3481.8</td>\n",
              "      <td>87</td>\n",
              "      <td>17.1</td>\n",
              "      <td>0.0</td>\n",
              "    </tr>\n",
              "    <tr>\n",
              "      <th>1</th>\n",
              "      <td>0</td>\n",
              "      <td>15.7</td>\n",
              "      <td>126</td>\n",
              "      <td>0</td>\n",
              "      <td>1009</td>\n",
              "      <td>16.3</td>\n",
              "      <td>0</td>\n",
              "      <td>3481.8</td>\n",
              "      <td>86</td>\n",
              "      <td>17.0</td>\n",
              "      <td>0.0</td>\n",
              "    </tr>\n",
              "    <tr>\n",
              "      <th>2</th>\n",
              "      <td>0</td>\n",
              "      <td>15.9</td>\n",
              "      <td>120</td>\n",
              "      <td>0</td>\n",
              "      <td>1009</td>\n",
              "      <td>16.4</td>\n",
              "      <td>0</td>\n",
              "      <td>3481.8</td>\n",
              "      <td>86</td>\n",
              "      <td>17.2</td>\n",
              "      <td>0.0</td>\n",
              "    </tr>\n",
              "  </tbody>\n",
              "</table>\n",
              "</div>\n",
              "      <button class=\"colab-df-convert\" onclick=\"convertToInteractive('df-77201906-335f-4915-bbb6-23c3f6b18f0b')\"\n",
              "              title=\"Convert this dataframe to an interactive table.\"\n",
              "              style=\"display:none;\">\n",
              "        \n",
              "  <svg xmlns=\"http://www.w3.org/2000/svg\" height=\"24px\"viewBox=\"0 0 24 24\"\n",
              "       width=\"24px\">\n",
              "    <path d=\"M0 0h24v24H0V0z\" fill=\"none\"/>\n",
              "    <path d=\"M18.56 5.44l.94 2.06.94-2.06 2.06-.94-2.06-.94-.94-2.06-.94 2.06-2.06.94zm-11 1L8.5 8.5l.94-2.06 2.06-.94-2.06-.94L8.5 2.5l-.94 2.06-2.06.94zm10 10l.94 2.06.94-2.06 2.06-.94-2.06-.94-.94-2.06-.94 2.06-2.06.94z\"/><path d=\"M17.41 7.96l-1.37-1.37c-.4-.4-.92-.59-1.43-.59-.52 0-1.04.2-1.43.59L10.3 9.45l-7.72 7.72c-.78.78-.78 2.05 0 2.83L4 21.41c.39.39.9.59 1.41.59.51 0 1.02-.2 1.41-.59l7.78-7.78 2.81-2.81c.8-.78.8-2.07 0-2.86zM5.41 20L4 18.59l7.72-7.72 1.47 1.35L5.41 20z\"/>\n",
              "  </svg>\n",
              "      </button>\n",
              "      \n",
              "  <style>\n",
              "    .colab-df-container {\n",
              "      display:flex;\n",
              "      flex-wrap:wrap;\n",
              "      gap: 12px;\n",
              "    }\n",
              "\n",
              "    .colab-df-convert {\n",
              "      background-color: #E8F0FE;\n",
              "      border: none;\n",
              "      border-radius: 50%;\n",
              "      cursor: pointer;\n",
              "      display: none;\n",
              "      fill: #1967D2;\n",
              "      height: 32px;\n",
              "      padding: 0 0 0 0;\n",
              "      width: 32px;\n",
              "    }\n",
              "\n",
              "    .colab-df-convert:hover {\n",
              "      background-color: #E2EBFA;\n",
              "      box-shadow: 0px 1px 2px rgba(60, 64, 67, 0.3), 0px 1px 3px 1px rgba(60, 64, 67, 0.15);\n",
              "      fill: #174EA6;\n",
              "    }\n",
              "\n",
              "    [theme=dark] .colab-df-convert {\n",
              "      background-color: #3B4455;\n",
              "      fill: #D2E3FC;\n",
              "    }\n",
              "\n",
              "    [theme=dark] .colab-df-convert:hover {\n",
              "      background-color: #434B5C;\n",
              "      box-shadow: 0px 1px 3px 1px rgba(0, 0, 0, 0.15);\n",
              "      filter: drop-shadow(0px 1px 2px rgba(0, 0, 0, 0.3));\n",
              "      fill: #FFFFFF;\n",
              "    }\n",
              "  </style>\n",
              "\n",
              "      <script>\n",
              "        const buttonEl =\n",
              "          document.querySelector('#df-77201906-335f-4915-bbb6-23c3f6b18f0b button.colab-df-convert');\n",
              "        buttonEl.style.display =\n",
              "          google.colab.kernel.accessAllowed ? 'block' : 'none';\n",
              "\n",
              "        async function convertToInteractive(key) {\n",
              "          const element = document.querySelector('#df-77201906-335f-4915-bbb6-23c3f6b18f0b');\n",
              "          const dataTable =\n",
              "            await google.colab.kernel.invokeFunction('convertToInteractive',\n",
              "                                                     [key], {});\n",
              "          if (!dataTable) return;\n",
              "\n",
              "          const docLinkHtml = 'Like what you see? Visit the ' +\n",
              "            '<a target=\"_blank\" href=https://colab.research.google.com/notebooks/data_table.ipynb>data table notebook</a>'\n",
              "            + ' to learn more about interactive tables.';\n",
              "          element.innerHTML = '';\n",
              "          dataTable['output_type'] = 'display_data';\n",
              "          await google.colab.output.renderOutput(dataTable, element);\n",
              "          const docLink = document.createElement('div');\n",
              "          docLink.innerHTML = docLinkHtml;\n",
              "          element.appendChild(docLink);\n",
              "        }\n",
              "      </script>\n",
              "    </div>\n",
              "  </div>\n",
              "  "
            ]
          },
          "metadata": {},
          "execution_count": 5
        }
      ]
    },
    {
      "cell_type": "code",
      "metadata": {
        "colab": {
          "base_uri": "https://localhost:8080/"
        },
        "id": "oOWp_zZZ2qLr",
        "outputId": "e757dff9-f759-4e59-bc72-ffb63d7390b0"
      },
      "source": [
        "dts.dtypes"
      ],
      "execution_count": null,
      "outputs": [
        {
          "output_type": "execute_result",
          "data": {
            "text/plain": [
              "Irradi  Glob      int64\n",
              "BoMT2           float64\n",
              "Wind Dir          int64\n",
              "Irradi PA         int64\n",
              "Pressure          int64\n",
              "BoMT            float64\n",
              "AVG irradi        int64\n",
              "Rainfall        float64\n",
              "Humidity          int64\n",
              "Amp Temp        float64\n",
              "S4INV4          float64\n",
              "dtype: object"
            ]
          },
          "metadata": {},
          "execution_count": 6
        }
      ]
    },
    {
      "cell_type": "code",
      "metadata": {
        "id": "zFlQxiSHTM2y"
      },
      "source": [
        "X_lbl = dts.iloc[:, :-1] # input columns with lables "
      ],
      "execution_count": null,
      "outputs": []
    },
    {
      "cell_type": "markdown",
      "metadata": {
        "id": "VWquZEPAhyOG"
      },
      "source": [
        ""
      ]
    },
    {
      "cell_type": "code",
      "metadata": {
        "colab": {
          "base_uri": "https://localhost:8080/"
        },
        "id": "60bpapsFibm2",
        "outputId": "b5c2cf3e-ab35-49e9-cff0-c84dd977c9d1"
      },
      "source": [
        "X = dts.iloc[0:10000, :-1].values\n",
        "y = dts.iloc[0:10000, -1].values\n",
        "print(X.shape, y.shape)\n",
        "y = np.reshape(y, (-1,1))\n",
        "y.shape"
      ],
      "execution_count": null,
      "outputs": [
        {
          "output_type": "stream",
          "name": "stdout",
          "text": [
            "(10000, 10) (10000,)\n"
          ]
        },
        {
          "output_type": "execute_result",
          "data": {
            "text/plain": [
              "(10000, 1)"
            ]
          },
          "metadata": {},
          "execution_count": 8
        }
      ]
    },
    {
      "cell_type": "code",
      "source": [
        "# the histogram of the data\n",
        "n, bins, patches = plt.hist(y, 50, density=False, facecolor='black', alpha=0.75)\n",
        "plt.xlabel('Active power generated (kW)')\n",
        "plt.ylabel('No. of samples')\n",
        "plt.title('Histogram of active power generation')\n",
        "#plt.text(60, .025, r'$\\mu=100,\\ \\sigma=15$')\n",
        "#plt.xlim(40, 160)\n",
        "#plt.ylim(0, 0.03)\n",
        "plt.grid(True)\n",
        "plt.show()"
      ],
      "metadata": {
        "colab": {
          "base_uri": "https://localhost:8080/",
          "height": 295
        },
        "id": "bE0xWz7yFjB5",
        "outputId": "65ada958-35e8-4e9b-9ee0-9d193f9bd772"
      },
      "execution_count": null,
      "outputs": [
        {
          "output_type": "display_data",
          "data": {
            "text/plain": [
              "<Figure size 432x288 with 1 Axes>"
            ],
            "image/png": "[encoded data removed]"
          },
          "metadata": {
            "needs_background": "light"
          }
        }
      ]
    },
    {
      "cell_type": "markdown",
      "metadata": {
        "id": "DfJ_mdUBin1h"
      },
      "source": [
        "# ***Splitting Training and Test sets***"
      ]
    },
    {
      "cell_type": "code",
      "metadata": {
        "colab": {
          "base_uri": "https://localhost:8080/"
        },
        "id": "gixZV7uyiwq6",
        "outputId": "7b36e2a6-1762-4887-ceaa-251a250503df"
      },
      "source": [
        "from sklearn.model_selection import train_test_split\n",
        "X_train, X_test, y_train, y_test = train_test_split(X, y, test_size=0.25, random_state=42)\n",
        "print(\"Train Shape: {} {} \\nTest Shape: {} {}\".format(X_train.shape, y_train.shape, X_test.shape, y_test.shape))"
      ],
      "execution_count": null,
      "outputs": [
        {
          "output_type": "stream",
          "name": "stdout",
          "text": [
            "Train Shape: (7500, 10) (7500, 1) \n",
            "Test Shape: (2500, 10) (2500, 1)\n"
          ]
        }
      ]
    },
    {
      "cell_type": "markdown",
      "metadata": {
        "id": "DNb3ZyuHi7MU"
      },
      "source": [
        "# ***Scaling***"
      ]
    },
    {
      "cell_type": "code",
      "metadata": {
        "id": "3JzoO4nNi2qN"
      },
      "source": [
        "from sklearn.preprocessing import StandardScaler\n",
        "# input scaling\n",
        "sc_X = StandardScaler()\n",
        "X_train = sc_X.fit_transform(X_train)\n",
        "X_test = sc_X.transform(X_test)\n",
        "\n",
        "# outcome scaling:\n",
        "sc_y = StandardScaler()\n",
        "y_train = sc_y.fit_transform(y_train)    \n",
        "y_test = sc_y.transform(y_test)"
      ],
      "execution_count": null,
      "outputs": []
    },
    {
      "cell_type": "markdown",
      "metadata": {
        "id": "RchXfN2CjHL5"
      },
      "source": [
        "# ***Creating Neural Network***"
      ]
    },
    {
      "cell_type": "code",
      "metadata": {
        "id": "M7zxaAsNjBcj"
      },
      "source": [
        "def create_spfnet(n_layers, n_activation, kernels):\n",
        "  model = tf.keras.models.Sequential()\n",
        "  for i, nodes in enumerate(n_layers):\n",
        "    \n",
        "    if i==0:\n",
        "      model.add(Dense(nodes, kernel_initializer=kernels, activation=n_activation, input_dim=X_train.shape[1]))\n",
        "      #model.add(Dropout(0.3))\n",
        "    else:\n",
        "      model.add(Dense(nodes, activation=n_activation, kernel_initializer=kernels))\n",
        "      #model.add(Dropout(0.3))\n",
        "  \n",
        "  model.add(Dense(1))\n",
        "  model.compile(loss='mse', \n",
        "                optimizer='adam',\n",
        "                metrics=[tf.keras.metrics.RootMeanSquaredError()])\n",
        "  return model\n"
      ],
      "execution_count": null,
      "outputs": []
    },
    {
      "cell_type": "code",
      "metadata": {
        "colab": {
          "base_uri": "https://localhost:8080/"
        },
        "id": "Evs3TAvnjRbc",
        "outputId": "60e97f59-3e7e-470f-9941-b53fd0f9725a"
      },
      "source": [
        "spfnet = create_spfnet([18, 6], 'relu', 'normal')\n",
        "spfnet.summary()"
      ],
      "execution_count": null,
      "outputs": [
        {
          "output_type": "stream",
          "name": "stdout",
          "text": [
            "Model: \"sequential\"\n",
            "_________________________________________________________________\n",
            " Layer (type)                Output Shape              Param #   \n",
            "=================================================================\n",
            " dense (Dense)               (None, 18)                198       \n",
            "                                                                 \n",
            " dense_1 (Dense)             (None, 6)                 114       \n",
            "                                                                 \n",
            " dense_2 (Dense)             (None, 1)                 7         \n",
            "                                                                 \n",
            "=================================================================\n",
            "Total params: 319\n",
            "Trainable params: 319\n",
            "Non-trainable params: 0\n",
            "_________________________________________________________________\n"
          ]
        }
      ]
    },
    {
      "cell_type": "code",
      "metadata": {
        "colab": {
          "base_uri": "https://localhost:8080/",
          "height": 422
        },
        "id": "u2tHm-G2j0cw",
        "outputId": "ace30f0c-4c8c-45b6-c71d-1946dd8d9de3"
      },
      "source": [
        "from keras.utils.vis_utils import plot_model\n",
        "plot_model(spfnet, to_file='spfnet_model.png', show_shapes=True, show_layer_names=True)"
      ],
      "execution_count": null,
      "outputs": [
        {
          "output_type": "execute_result",
          "data": {
            "text/plain": [
              "<IPython.core.display.Image object>"
            ],
            "image/png": "[encoded data removed]"
          },
          "metadata": {},
          "execution_count": 14
        }
      ]
    },
    {
      "cell_type": "code",
      "metadata": {
        "id": "ksyZqQGUkCi9",
        "colab": {
          "base_uri": "https://localhost:8080/"
        },
        "outputId": "0a0622f7-5d44-4b75-cb2a-8294528431e2"
      },
      "source": [
        "import timeit\n",
        "start = timeit.default_timer()\n",
        "hist = spfnet.fit(X_train, y_train, batch_size=32, validation_data=(X_test, y_test),epochs=150, verbose=2)\n",
        "end = timeit.default_timer()\n",
        "print(end-start)"
      ],
      "execution_count": null,
      "outputs": [
        {
          "output_type": "stream",
          "name": "stdout",
          "text": [
            "Epoch 1/200\n",
            "235/235 - 1s - loss: 0.7068 - root_mean_squared_error: 0.8407 - val_loss: 0.6362 - val_root_mean_squared_error: 0.7976 - 1s/epoch - 5ms/step\n",
            "Epoch 2/200\n",
            "235/235 - 0s - loss: 0.5032 - root_mean_squared_error: 0.7094 - val_loss: 0.4934 - val_root_mean_squared_error: 0.7024 - 444ms/epoch - 2ms/step\n",
            "Epoch 3/200\n",
            "235/235 - 0s - loss: 0.3915 - root_mean_squared_error: 0.6257 - val_loss: 0.3902 - val_root_mean_squared_error: 0.6247 - 391ms/epoch - 2ms/step\n",
            "Epoch 4/200\n",
            "235/235 - 0s - loss: 0.3078 - root_mean_squared_error: 0.5548 - val_loss: 0.3104 - val_root_mean_squared_error: 0.5571 - 439ms/epoch - 2ms/step\n",
            "Epoch 5/200\n",
            "235/235 - 0s - loss: 0.2435 - root_mean_squared_error: 0.4934 - val_loss: 0.2496 - val_root_mean_squared_error: 0.4996 - 456ms/epoch - 2ms/step\n",
            "Epoch 6/200\n",
            "235/235 - 0s - loss: 0.1942 - root_mean_squared_error: 0.4407 - val_loss: 0.2025 - val_root_mean_squared_error: 0.4500 - 375ms/epoch - 2ms/step\n",
            "Epoch 7/200\n",
            "235/235 - 0s - loss: 0.1576 - root_mean_squared_error: 0.3970 - val_loss: 0.1679 - val_root_mean_squared_error: 0.4097 - 395ms/epoch - 2ms/step\n",
            "Epoch 8/200\n",
            "235/235 - 0s - loss: 0.1307 - root_mean_squared_error: 0.3616 - val_loss: 0.1422 - val_root_mean_squared_error: 0.3770 - 376ms/epoch - 2ms/step\n",
            "Epoch 9/200\n",
            "235/235 - 0s - loss: 0.1112 - root_mean_squared_error: 0.3334 - val_loss: 0.1236 - val_root_mean_squared_error: 0.3515 - 443ms/epoch - 2ms/step\n",
            "Epoch 10/200\n",
            "235/235 - 0s - loss: 0.0973 - root_mean_squared_error: 0.3119 - val_loss: 0.1085 - val_root_mean_squared_error: 0.3294 - 448ms/epoch - 2ms/step\n",
            "Epoch 11/200\n",
            "235/235 - 0s - loss: 0.0875 - root_mean_squared_error: 0.2958 - val_loss: 0.0997 - val_root_mean_squared_error: 0.3157 - 445ms/epoch - 2ms/step\n",
            "Epoch 12/200\n",
            "235/235 - 0s - loss: 0.0807 - root_mean_squared_error: 0.2842 - val_loss: 0.0915 - val_root_mean_squared_error: 0.3024 - 456ms/epoch - 2ms/step\n",
            "Epoch 13/200\n",
            "235/235 - 0s - loss: 0.0753 - root_mean_squared_error: 0.2745 - val_loss: 0.0862 - val_root_mean_squared_error: 0.2936 - 369ms/epoch - 2ms/step\n",
            "Epoch 14/200\n",
            "235/235 - 0s - loss: 0.0714 - root_mean_squared_error: 0.2672 - val_loss: 0.0827 - val_root_mean_squared_error: 0.2876 - 381ms/epoch - 2ms/step\n",
            "Epoch 15/200\n",
            "235/235 - 0s - loss: 0.0685 - root_mean_squared_error: 0.2618 - val_loss: 0.0799 - val_root_mean_squared_error: 0.2827 - 445ms/epoch - 2ms/step\n",
            "Epoch 16/200\n",
            "235/235 - 0s - loss: 0.0660 - root_mean_squared_error: 0.2570 - val_loss: 0.0760 - val_root_mean_squared_error: 0.2757 - 447ms/epoch - 2ms/step\n",
            "Epoch 17/200\n",
            "235/235 - 0s - loss: 0.0647 - root_mean_squared_error: 0.2544 - val_loss: 0.0746 - val_root_mean_squared_error: 0.2731 - 379ms/epoch - 2ms/step\n",
            "Epoch 18/200\n",
            "235/235 - 0s - loss: 0.0634 - root_mean_squared_error: 0.2518 - val_loss: 0.0726 - val_root_mean_squared_error: 0.2695 - 440ms/epoch - 2ms/step\n",
            "Epoch 19/200\n",
            "235/235 - 0s - loss: 0.0624 - root_mean_squared_error: 0.2497 - val_loss: 0.0718 - val_root_mean_squared_error: 0.2680 - 456ms/epoch - 2ms/step\n",
            "Epoch 20/200\n",
            "235/235 - 0s - loss: 0.0614 - root_mean_squared_error: 0.2478 - val_loss: 0.0711 - val_root_mean_squared_error: 0.2667 - 437ms/epoch - 2ms/step\n",
            "Epoch 21/200\n",
            "235/235 - 0s - loss: 0.0610 - root_mean_squared_error: 0.2470 - val_loss: 0.0694 - val_root_mean_squared_error: 0.2634 - 388ms/epoch - 2ms/step\n",
            "Epoch 22/200\n",
            "235/235 - 0s - loss: 0.0605 - root_mean_squared_error: 0.2459 - val_loss: 0.0694 - val_root_mean_squared_error: 0.2634 - 439ms/epoch - 2ms/step\n",
            "Epoch 23/200\n",
            "235/235 - 0s - loss: 0.0597 - root_mean_squared_error: 0.2444 - val_loss: 0.0700 - val_root_mean_squared_error: 0.2646 - 444ms/epoch - 2ms/step\n",
            "Epoch 24/200\n",
            "235/235 - 0s - loss: 0.0598 - root_mean_squared_error: 0.2446 - val_loss: 0.0689 - val_root_mean_squared_error: 0.2624 - 386ms/epoch - 2ms/step\n",
            "Epoch 25/200\n",
            "235/235 - 0s - loss: 0.0593 - root_mean_squared_error: 0.2435 - val_loss: 0.0684 - val_root_mean_squared_error: 0.2615 - 373ms/epoch - 2ms/step\n",
            "Epoch 26/200\n",
            "235/235 - 0s - loss: 0.0590 - root_mean_squared_error: 0.2430 - val_loss: 0.0678 - val_root_mean_squared_error: 0.2603 - 452ms/epoch - 2ms/step\n",
            "Epoch 27/200\n",
            "235/235 - 0s - loss: 0.0586 - root_mean_squared_error: 0.2422 - val_loss: 0.0672 - val_root_mean_squared_error: 0.2592 - 445ms/epoch - 2ms/step\n",
            "Epoch 28/200\n",
            "235/235 - 0s - loss: 0.0585 - root_mean_squared_error: 0.2418 - val_loss: 0.0667 - val_root_mean_squared_error: 0.2582 - 395ms/epoch - 2ms/step\n",
            "Epoch 29/200\n",
            "235/235 - 0s - loss: 0.0584 - root_mean_squared_error: 0.2416 - val_loss: 0.0666 - val_root_mean_squared_error: 0.2580 - 397ms/epoch - 2ms/step\n",
            "Epoch 30/200\n",
            "235/235 - 0s - loss: 0.0589 - root_mean_squared_error: 0.2427 - val_loss: 0.0671 - val_root_mean_squared_error: 0.2591 - 366ms/epoch - 2ms/step\n",
            "Epoch 31/200\n",
            "235/235 - 0s - loss: 0.0584 - root_mean_squared_error: 0.2417 - val_loss: 0.0671 - val_root_mean_squared_error: 0.2590 - 463ms/epoch - 2ms/step\n",
            "Epoch 32/200\n",
            "235/235 - 0s - loss: 0.0579 - root_mean_squared_error: 0.2407 - val_loss: 0.0678 - val_root_mean_squared_error: 0.2604 - 379ms/epoch - 2ms/step\n",
            "Epoch 33/200\n",
            "235/235 - 0s - loss: 0.0579 - root_mean_squared_error: 0.2406 - val_loss: 0.0686 - val_root_mean_squared_error: 0.2619 - 386ms/epoch - 2ms/step\n",
            "Epoch 34/200\n",
            "235/235 - 0s - loss: 0.0577 - root_mean_squared_error: 0.2402 - val_loss: 0.0668 - val_root_mean_squared_error: 0.2585 - 444ms/epoch - 2ms/step\n",
            "Epoch 35/200\n",
            "235/235 - 0s - loss: 0.0574 - root_mean_squared_error: 0.2395 - val_loss: 0.0672 - val_root_mean_squared_error: 0.2591 - 443ms/epoch - 2ms/step\n",
            "Epoch 36/200\n",
            "235/235 - 0s - loss: 0.0577 - root_mean_squared_error: 0.2402 - val_loss: 0.0675 - val_root_mean_squared_error: 0.2598 - 391ms/epoch - 2ms/step\n",
            "Epoch 37/200\n",
            "235/235 - 0s - loss: 0.0570 - root_mean_squared_error: 0.2387 - val_loss: 0.0666 - val_root_mean_squared_error: 0.2580 - 441ms/epoch - 2ms/step\n",
            "Epoch 38/200\n",
            "235/235 - 0s - loss: 0.0571 - root_mean_squared_error: 0.2389 - val_loss: 0.0655 - val_root_mean_squared_error: 0.2560 - 385ms/epoch - 2ms/step\n",
            "Epoch 39/200\n",
            "235/235 - 0s - loss: 0.0565 - root_mean_squared_error: 0.2377 - val_loss: 0.0653 - val_root_mean_squared_error: 0.2555 - 381ms/epoch - 2ms/step\n",
            "Epoch 40/200\n",
            "235/235 - 0s - loss: 0.0565 - root_mean_squared_error: 0.2377 - val_loss: 0.0660 - val_root_mean_squared_error: 0.2568 - 375ms/epoch - 2ms/step\n",
            "Epoch 41/200\n",
            "235/235 - 0s - loss: 0.0566 - root_mean_squared_error: 0.2380 - val_loss: 0.0666 - val_root_mean_squared_error: 0.2581 - 460ms/epoch - 2ms/step\n",
            "Epoch 42/200\n",
            "235/235 - 0s - loss: 0.0566 - root_mean_squared_error: 0.2379 - val_loss: 0.0663 - val_root_mean_squared_error: 0.2575 - 376ms/epoch - 2ms/step\n",
            "Epoch 43/200\n",
            "235/235 - 0s - loss: 0.0566 - root_mean_squared_error: 0.2379 - val_loss: 0.0654 - val_root_mean_squared_error: 0.2557 - 454ms/epoch - 2ms/step\n",
            "Epoch 44/200\n",
            "235/235 - 0s - loss: 0.0570 - root_mean_squared_error: 0.2387 - val_loss: 0.0657 - val_root_mean_squared_error: 0.2563 - 396ms/epoch - 2ms/step\n",
            "Epoch 45/200\n",
            "235/235 - 0s - loss: 0.0565 - root_mean_squared_error: 0.2377 - val_loss: 0.0656 - val_root_mean_squared_error: 0.2561 - 449ms/epoch - 2ms/step\n",
            "Epoch 46/200\n",
            "235/235 - 0s - loss: 0.0563 - root_mean_squared_error: 0.2373 - val_loss: 0.0661 - val_root_mean_squared_error: 0.2571 - 375ms/epoch - 2ms/step\n",
            "Epoch 47/200\n",
            "235/235 - 0s - loss: 0.0563 - root_mean_squared_error: 0.2373 - val_loss: 0.0683 - val_root_mean_squared_error: 0.2614 - 438ms/epoch - 2ms/step\n",
            "Epoch 48/200\n",
            "235/235 - 0s - loss: 0.0565 - root_mean_squared_error: 0.2377 - val_loss: 0.0659 - val_root_mean_squared_error: 0.2566 - 452ms/epoch - 2ms/step\n",
            "Epoch 49/200\n",
            "235/235 - 0s - loss: 0.0555 - root_mean_squared_error: 0.2357 - val_loss: 0.0689 - val_root_mean_squared_error: 0.2625 - 450ms/epoch - 2ms/step\n",
            "Epoch 50/200\n",
            "235/235 - 0s - loss: 0.0562 - root_mean_squared_error: 0.2372 - val_loss: 0.0648 - val_root_mean_squared_error: 0.2546 - 396ms/epoch - 2ms/step\n",
            "Epoch 51/200\n",
            "235/235 - 0s - loss: 0.0560 - root_mean_squared_error: 0.2365 - val_loss: 0.0651 - val_root_mean_squared_error: 0.2551 - 465ms/epoch - 2ms/step\n",
            "Epoch 52/200\n",
            "235/235 - 0s - loss: 0.0559 - root_mean_squared_error: 0.2364 - val_loss: 0.0644 - val_root_mean_squared_error: 0.2538 - 456ms/epoch - 2ms/step\n",
            "Epoch 53/200\n",
            "235/235 - 0s - loss: 0.0559 - root_mean_squared_error: 0.2365 - val_loss: 0.0679 - val_root_mean_squared_error: 0.2606 - 450ms/epoch - 2ms/step\n",
            "Epoch 54/200\n",
            "235/235 - 0s - loss: 0.0552 - root_mean_squared_error: 0.2350 - val_loss: 0.0668 - val_root_mean_squared_error: 0.2584 - 448ms/epoch - 2ms/step\n",
            "Epoch 55/200\n",
            "235/235 - 0s - loss: 0.0560 - root_mean_squared_error: 0.2366 - val_loss: 0.0644 - val_root_mean_squared_error: 0.2538 - 391ms/epoch - 2ms/step\n",
            "Epoch 56/200\n",
            "235/235 - 0s - loss: 0.0557 - root_mean_squared_error: 0.2360 - val_loss: 0.0656 - val_root_mean_squared_error: 0.2562 - 381ms/epoch - 2ms/step\n",
            "Epoch 57/200\n",
            "235/235 - 0s - loss: 0.0551 - root_mean_squared_error: 0.2348 - val_loss: 0.0668 - val_root_mean_squared_error: 0.2585 - 458ms/epoch - 2ms/step\n",
            "Epoch 58/200\n",
            "235/235 - 0s - loss: 0.0552 - root_mean_squared_error: 0.2349 - val_loss: 0.0647 - val_root_mean_squared_error: 0.2543 - 435ms/epoch - 2ms/step\n",
            "Epoch 59/200\n",
            "235/235 - 0s - loss: 0.0551 - root_mean_squared_error: 0.2348 - val_loss: 0.0642 - val_root_mean_squared_error: 0.2534 - 374ms/epoch - 2ms/step\n",
            "Epoch 60/200\n",
            "235/235 - 0s - loss: 0.0551 - root_mean_squared_error: 0.2346 - val_loss: 0.0640 - val_root_mean_squared_error: 0.2529 - 398ms/epoch - 2ms/step\n",
            "Epoch 61/200\n",
            "235/235 - 0s - loss: 0.0550 - root_mean_squared_error: 0.2344 - val_loss: 0.0654 - val_root_mean_squared_error: 0.2557 - 445ms/epoch - 2ms/step\n",
            "Epoch 62/200\n",
            "235/235 - 0s - loss: 0.0546 - root_mean_squared_error: 0.2338 - val_loss: 0.0639 - val_root_mean_squared_error: 0.2529 - 457ms/epoch - 2ms/step\n",
            "Epoch 63/200\n",
            "235/235 - 0s - loss: 0.0551 - root_mean_squared_error: 0.2347 - val_loss: 0.0640 - val_root_mean_squared_error: 0.2531 - 436ms/epoch - 2ms/step\n",
            "Epoch 64/200\n",
            "235/235 - 0s - loss: 0.0549 - root_mean_squared_error: 0.2344 - val_loss: 0.0650 - val_root_mean_squared_error: 0.2549 - 390ms/epoch - 2ms/step\n",
            "Epoch 65/200\n",
            "235/235 - 0s - loss: 0.0551 - root_mean_squared_error: 0.2348 - val_loss: 0.0659 - val_root_mean_squared_error: 0.2567 - 445ms/epoch - 2ms/step\n",
            "Epoch 66/200\n",
            "235/235 - 0s - loss: 0.0547 - root_mean_squared_error: 0.2339 - val_loss: 0.0656 - val_root_mean_squared_error: 0.2562 - 445ms/epoch - 2ms/step\n",
            "Epoch 67/200\n",
            "235/235 - 0s - loss: 0.0551 - root_mean_squared_error: 0.2347 - val_loss: 0.0646 - val_root_mean_squared_error: 0.2542 - 476ms/epoch - 2ms/step\n",
            "Epoch 68/200\n",
            "235/235 - 0s - loss: 0.0551 - root_mean_squared_error: 0.2346 - val_loss: 0.0638 - val_root_mean_squared_error: 0.2527 - 467ms/epoch - 2ms/step\n",
            "Epoch 69/200\n",
            "235/235 - 1s - loss: 0.0540 - root_mean_squared_error: 0.2323 - val_loss: 0.0650 - val_root_mean_squared_error: 0.2549 - 593ms/epoch - 3ms/step\n",
            "Epoch 70/200\n",
            "235/235 - 1s - loss: 0.0549 - root_mean_squared_error: 0.2343 - val_loss: 0.0644 - val_root_mean_squared_error: 0.2537 - 609ms/epoch - 3ms/step\n",
            "Epoch 71/200\n",
            "235/235 - 1s - loss: 0.0547 - root_mean_squared_error: 0.2338 - val_loss: 0.0641 - val_root_mean_squared_error: 0.2531 - 638ms/epoch - 3ms/step\n",
            "Epoch 72/200\n",
            "235/235 - 1s - loss: 0.0542 - root_mean_squared_error: 0.2328 - val_loss: 0.0641 - val_root_mean_squared_error: 0.2531 - 573ms/epoch - 2ms/step\n",
            "Epoch 73/200\n",
            "235/235 - 0s - loss: 0.0543 - root_mean_squared_error: 0.2330 - val_loss: 0.0645 - val_root_mean_squared_error: 0.2539 - 388ms/epoch - 2ms/step\n",
            "Epoch 74/200\n",
            "235/235 - 0s - loss: 0.0547 - root_mean_squared_error: 0.2338 - val_loss: 0.0636 - val_root_mean_squared_error: 0.2521 - 415ms/epoch - 2ms/step\n",
            "Epoch 75/200\n",
            "235/235 - 0s - loss: 0.0545 - root_mean_squared_error: 0.2335 - val_loss: 0.0648 - val_root_mean_squared_error: 0.2546 - 461ms/epoch - 2ms/step\n",
            "Epoch 76/200\n",
            "235/235 - 0s - loss: 0.0542 - root_mean_squared_error: 0.2328 - val_loss: 0.0652 - val_root_mean_squared_error: 0.2553 - 384ms/epoch - 2ms/step\n",
            "Epoch 77/200\n",
            "235/235 - 0s - loss: 0.0542 - root_mean_squared_error: 0.2329 - val_loss: 0.0634 - val_root_mean_squared_error: 0.2518 - 484ms/epoch - 2ms/step\n",
            "Epoch 78/200\n",
            "235/235 - 0s - loss: 0.0541 - root_mean_squared_error: 0.2326 - val_loss: 0.0635 - val_root_mean_squared_error: 0.2520 - 389ms/epoch - 2ms/step\n",
            "Epoch 79/200\n",
            "235/235 - 0s - loss: 0.0538 - root_mean_squared_error: 0.2319 - val_loss: 0.0660 - val_root_mean_squared_error: 0.2569 - 463ms/epoch - 2ms/step\n",
            "Epoch 80/200\n",
            "235/235 - 0s - loss: 0.0543 - root_mean_squared_error: 0.2329 - val_loss: 0.0652 - val_root_mean_squared_error: 0.2554 - 450ms/epoch - 2ms/step\n",
            "Epoch 81/200\n",
            "235/235 - 0s - loss: 0.0542 - root_mean_squared_error: 0.2328 - val_loss: 0.0659 - val_root_mean_squared_error: 0.2567 - 406ms/epoch - 2ms/step\n",
            "Epoch 82/200\n",
            "235/235 - 0s - loss: 0.0544 - root_mean_squared_error: 0.2332 - val_loss: 0.0637 - val_root_mean_squared_error: 0.2525 - 467ms/epoch - 2ms/step\n",
            "Epoch 83/200\n",
            "235/235 - 0s - loss: 0.0541 - root_mean_squared_error: 0.2327 - val_loss: 0.0646 - val_root_mean_squared_error: 0.2541 - 465ms/epoch - 2ms/step\n",
            "Epoch 84/200\n",
            "235/235 - 0s - loss: 0.0541 - root_mean_squared_error: 0.2326 - val_loss: 0.0645 - val_root_mean_squared_error: 0.2539 - 394ms/epoch - 2ms/step\n",
            "Epoch 85/200\n",
            "235/235 - 0s - loss: 0.0548 - root_mean_squared_error: 0.2342 - val_loss: 0.0637 - val_root_mean_squared_error: 0.2523 - 468ms/epoch - 2ms/step\n",
            "Epoch 86/200\n",
            "235/235 - 0s - loss: 0.0539 - root_mean_squared_error: 0.2321 - val_loss: 0.0678 - val_root_mean_squared_error: 0.2604 - 460ms/epoch - 2ms/step\n",
            "Epoch 87/200\n",
            "235/235 - 0s - loss: 0.0542 - root_mean_squared_error: 0.2328 - val_loss: 0.0641 - val_root_mean_squared_error: 0.2532 - 387ms/epoch - 2ms/step\n",
            "Epoch 88/200\n",
            "235/235 - 0s - loss: 0.0535 - root_mean_squared_error: 0.2313 - val_loss: 0.0638 - val_root_mean_squared_error: 0.2527 - 447ms/epoch - 2ms/step\n",
            "Epoch 89/200\n",
            "235/235 - 0s - loss: 0.0537 - root_mean_squared_error: 0.2318 - val_loss: 0.0641 - val_root_mean_squared_error: 0.2532 - 449ms/epoch - 2ms/step\n",
            "Epoch 90/200\n",
            "235/235 - 0s - loss: 0.0534 - root_mean_squared_error: 0.2310 - val_loss: 0.0640 - val_root_mean_squared_error: 0.2530 - 449ms/epoch - 2ms/step\n",
            "Epoch 91/200\n",
            "235/235 - 0s - loss: 0.0538 - root_mean_squared_error: 0.2319 - val_loss: 0.0645 - val_root_mean_squared_error: 0.2540 - 382ms/epoch - 2ms/step\n",
            "Epoch 92/200\n",
            "235/235 - 0s - loss: 0.0538 - root_mean_squared_error: 0.2319 - val_loss: 0.0639 - val_root_mean_squared_error: 0.2529 - 382ms/epoch - 2ms/step\n",
            "Epoch 93/200\n",
            "235/235 - 0s - loss: 0.0537 - root_mean_squared_error: 0.2317 - val_loss: 0.0638 - val_root_mean_squared_error: 0.2526 - 458ms/epoch - 2ms/step\n",
            "Epoch 94/200\n",
            "235/235 - 0s - loss: 0.0537 - root_mean_squared_error: 0.2317 - val_loss: 0.0641 - val_root_mean_squared_error: 0.2533 - 465ms/epoch - 2ms/step\n",
            "Epoch 95/200\n",
            "235/235 - 0s - loss: 0.0535 - root_mean_squared_error: 0.2312 - val_loss: 0.0632 - val_root_mean_squared_error: 0.2515 - 386ms/epoch - 2ms/step\n",
            "Epoch 96/200\n",
            "235/235 - 0s - loss: 0.0537 - root_mean_squared_error: 0.2317 - val_loss: 0.0637 - val_root_mean_squared_error: 0.2523 - 450ms/epoch - 2ms/step\n",
            "Epoch 97/200\n",
            "235/235 - 0s - loss: 0.0539 - root_mean_squared_error: 0.2322 - val_loss: 0.0642 - val_root_mean_squared_error: 0.2534 - 384ms/epoch - 2ms/step\n",
            "Epoch 98/200\n",
            "235/235 - 0s - loss: 0.0536 - root_mean_squared_error: 0.2314 - val_loss: 0.0638 - val_root_mean_squared_error: 0.2525 - 451ms/epoch - 2ms/step\n",
            "Epoch 99/200\n",
            "235/235 - 0s - loss: 0.0534 - root_mean_squared_error: 0.2311 - val_loss: 0.0645 - val_root_mean_squared_error: 0.2539 - 390ms/epoch - 2ms/step\n",
            "Epoch 100/200\n",
            "235/235 - 0s - loss: 0.0533 - root_mean_squared_error: 0.2308 - val_loss: 0.0645 - val_root_mean_squared_error: 0.2540 - 462ms/epoch - 2ms/step\n",
            "Epoch 101/200\n",
            "235/235 - 0s - loss: 0.0534 - root_mean_squared_error: 0.2311 - val_loss: 0.0653 - val_root_mean_squared_error: 0.2555 - 454ms/epoch - 2ms/step\n",
            "Epoch 102/200\n",
            "235/235 - 0s - loss: 0.0533 - root_mean_squared_error: 0.2309 - val_loss: 0.0647 - val_root_mean_squared_error: 0.2544 - 371ms/epoch - 2ms/step\n",
            "Epoch 103/200\n",
            "235/235 - 0s - loss: 0.0534 - root_mean_squared_error: 0.2311 - val_loss: 0.0642 - val_root_mean_squared_error: 0.2533 - 455ms/epoch - 2ms/step\n",
            "Epoch 104/200\n",
            "235/235 - 0s - loss: 0.0530 - root_mean_squared_error: 0.2303 - val_loss: 0.0654 - val_root_mean_squared_error: 0.2557 - 373ms/epoch - 2ms/step\n",
            "Epoch 105/200\n",
            "235/235 - 0s - loss: 0.0533 - root_mean_squared_error: 0.2308 - val_loss: 0.0642 - val_root_mean_squared_error: 0.2534 - 378ms/epoch - 2ms/step\n",
            "Epoch 106/200\n",
            "235/235 - 0s - loss: 0.0533 - root_mean_squared_error: 0.2308 - val_loss: 0.0635 - val_root_mean_squared_error: 0.2521 - 407ms/epoch - 2ms/step\n",
            "Epoch 107/200\n",
            "235/235 - 0s - loss: 0.0531 - root_mean_squared_error: 0.2304 - val_loss: 0.0641 - val_root_mean_squared_error: 0.2532 - 379ms/epoch - 2ms/step\n",
            "Epoch 108/200\n",
            "235/235 - 0s - loss: 0.0533 - root_mean_squared_error: 0.2308 - val_loss: 0.0644 - val_root_mean_squared_error: 0.2537 - 449ms/epoch - 2ms/step\n",
            "Epoch 109/200\n",
            "235/235 - 0s - loss: 0.0528 - root_mean_squared_error: 0.2297 - val_loss: 0.0652 - val_root_mean_squared_error: 0.2553 - 371ms/epoch - 2ms/step\n",
            "Epoch 110/200\n",
            "235/235 - 0s - loss: 0.0531 - root_mean_squared_error: 0.2305 - val_loss: 0.0665 - val_root_mean_squared_error: 0.2578 - 454ms/epoch - 2ms/step\n",
            "Epoch 111/200\n",
            "235/235 - 0s - loss: 0.0533 - root_mean_squared_error: 0.2309 - val_loss: 0.0640 - val_root_mean_squared_error: 0.2530 - 438ms/epoch - 2ms/step\n",
            "Epoch 112/200\n",
            "235/235 - 0s - loss: 0.0528 - root_mean_squared_error: 0.2298 - val_loss: 0.0637 - val_root_mean_squared_error: 0.2524 - 436ms/epoch - 2ms/step\n",
            "Epoch 113/200\n",
            "235/235 - 0s - loss: 0.0533 - root_mean_squared_error: 0.2309 - val_loss: 0.0642 - val_root_mean_squared_error: 0.2533 - 448ms/epoch - 2ms/step\n",
            "Epoch 114/200\n",
            "235/235 - 0s - loss: 0.0530 - root_mean_squared_error: 0.2301 - val_loss: 0.0638 - val_root_mean_squared_error: 0.2526 - 434ms/epoch - 2ms/step\n",
            "Epoch 115/200\n",
            "235/235 - 0s - loss: 0.0529 - root_mean_squared_error: 0.2301 - val_loss: 0.0649 - val_root_mean_squared_error: 0.2548 - 440ms/epoch - 2ms/step\n",
            "Epoch 116/200\n",
            "235/235 - 0s - loss: 0.0530 - root_mean_squared_error: 0.2302 - val_loss: 0.0658 - val_root_mean_squared_error: 0.2565 - 443ms/epoch - 2ms/step\n",
            "Epoch 117/200\n",
            "235/235 - 0s - loss: 0.0528 - root_mean_squared_error: 0.2298 - val_loss: 0.0650 - val_root_mean_squared_error: 0.2549 - 376ms/epoch - 2ms/step\n",
            "Epoch 118/200\n",
            "235/235 - 0s - loss: 0.0534 - root_mean_squared_error: 0.2311 - val_loss: 0.0635 - val_root_mean_squared_error: 0.2520 - 376ms/epoch - 2ms/step\n",
            "Epoch 119/200\n",
            "235/235 - 0s - loss: 0.0530 - root_mean_squared_error: 0.2302 - val_loss: 0.0636 - val_root_mean_squared_error: 0.2522 - 391ms/epoch - 2ms/step\n",
            "Epoch 120/200\n",
            "235/235 - 0s - loss: 0.0524 - root_mean_squared_error: 0.2290 - val_loss: 0.0632 - val_root_mean_squared_error: 0.2514 - 455ms/epoch - 2ms/step\n",
            "Epoch 121/200\n",
            "235/235 - 0s - loss: 0.0526 - root_mean_squared_error: 0.2294 - val_loss: 0.0648 - val_root_mean_squared_error: 0.2545 - 433ms/epoch - 2ms/step\n",
            "Epoch 122/200\n",
            "235/235 - 0s - loss: 0.0532 - root_mean_squared_error: 0.2305 - val_loss: 0.0655 - val_root_mean_squared_error: 0.2560 - 450ms/epoch - 2ms/step\n",
            "Epoch 123/200\n",
            "235/235 - 0s - loss: 0.0529 - root_mean_squared_error: 0.2300 - val_loss: 0.0639 - val_root_mean_squared_error: 0.2528 - 442ms/epoch - 2ms/step\n",
            "Epoch 124/200\n",
            "235/235 - 0s - loss: 0.0527 - root_mean_squared_error: 0.2296 - val_loss: 0.0635 - val_root_mean_squared_error: 0.2520 - 467ms/epoch - 2ms/step\n",
            "Epoch 125/200\n",
            "235/235 - 0s - loss: 0.0529 - root_mean_squared_error: 0.2300 - val_loss: 0.0631 - val_root_mean_squared_error: 0.2512 - 440ms/epoch - 2ms/step\n",
            "Epoch 126/200\n",
            "235/235 - 0s - loss: 0.0527 - root_mean_squared_error: 0.2295 - val_loss: 0.0633 - val_root_mean_squared_error: 0.2516 - 377ms/epoch - 2ms/step\n",
            "Epoch 127/200\n",
            "235/235 - 0s - loss: 0.0527 - root_mean_squared_error: 0.2296 - val_loss: 0.0634 - val_root_mean_squared_error: 0.2518 - 375ms/epoch - 2ms/step\n",
            "Epoch 128/200\n",
            "235/235 - 0s - loss: 0.0527 - root_mean_squared_error: 0.2296 - val_loss: 0.0639 - val_root_mean_squared_error: 0.2528 - 376ms/epoch - 2ms/step\n",
            "Epoch 129/200\n",
            "235/235 - 0s - loss: 0.0528 - root_mean_squared_error: 0.2298 - val_loss: 0.0644 - val_root_mean_squared_error: 0.2538 - 413ms/epoch - 2ms/step\n",
            "Epoch 130/200\n",
            "235/235 - 0s - loss: 0.0529 - root_mean_squared_error: 0.2300 - val_loss: 0.0632 - val_root_mean_squared_error: 0.2514 - 376ms/epoch - 2ms/step\n",
            "Epoch 131/200\n",
            "235/235 - 0s - loss: 0.0524 - root_mean_squared_error: 0.2290 - val_loss: 0.0644 - val_root_mean_squared_error: 0.2538 - 373ms/epoch - 2ms/step\n",
            "Epoch 132/200\n",
            "235/235 - 0s - loss: 0.0524 - root_mean_squared_error: 0.2290 - val_loss: 0.0651 - val_root_mean_squared_error: 0.2551 - 448ms/epoch - 2ms/step\n",
            "Epoch 133/200\n",
            "235/235 - 0s - loss: 0.0526 - root_mean_squared_error: 0.2293 - val_loss: 0.0644 - val_root_mean_squared_error: 0.2537 - 378ms/epoch - 2ms/step\n",
            "Epoch 134/200\n",
            "235/235 - 0s - loss: 0.0527 - root_mean_squared_error: 0.2295 - val_loss: 0.0648 - val_root_mean_squared_error: 0.2546 - 452ms/epoch - 2ms/step\n",
            "Epoch 135/200\n",
            "235/235 - 0s - loss: 0.0522 - root_mean_squared_error: 0.2285 - val_loss: 0.0642 - val_root_mean_squared_error: 0.2534 - 371ms/epoch - 2ms/step\n",
            "Epoch 136/200\n",
            "235/235 - 0s - loss: 0.0523 - root_mean_squared_error: 0.2286 - val_loss: 0.0640 - val_root_mean_squared_error: 0.2529 - 376ms/epoch - 2ms/step\n",
            "Epoch 137/200\n",
            "235/235 - 0s - loss: 0.0525 - root_mean_squared_error: 0.2291 - val_loss: 0.0642 - val_root_mean_squared_error: 0.2534 - 392ms/epoch - 2ms/step\n",
            "Epoch 138/200\n",
            "235/235 - 0s - loss: 0.0518 - root_mean_squared_error: 0.2276 - val_loss: 0.0662 - val_root_mean_squared_error: 0.2574 - 374ms/epoch - 2ms/step\n",
            "Epoch 139/200\n",
            "235/235 - 0s - loss: 0.0522 - root_mean_squared_error: 0.2284 - val_loss: 0.0645 - val_root_mean_squared_error: 0.2540 - 441ms/epoch - 2ms/step\n",
            "Epoch 140/200\n",
            "235/235 - 0s - loss: 0.0521 - root_mean_squared_error: 0.2283 - val_loss: 0.0637 - val_root_mean_squared_error: 0.2525 - 390ms/epoch - 2ms/step\n",
            "Epoch 141/200\n",
            "235/235 - 0s - loss: 0.0521 - root_mean_squared_error: 0.2282 - val_loss: 0.0634 - val_root_mean_squared_error: 0.2518 - 391ms/epoch - 2ms/step\n",
            "Epoch 142/200\n",
            "235/235 - 0s - loss: 0.0522 - root_mean_squared_error: 0.2285 - val_loss: 0.0634 - val_root_mean_squared_error: 0.2517 - 394ms/epoch - 2ms/step\n",
            "Epoch 143/200\n",
            "235/235 - 0s - loss: 0.0524 - root_mean_squared_error: 0.2288 - val_loss: 0.0634 - val_root_mean_squared_error: 0.2518 - 448ms/epoch - 2ms/step\n",
            "Epoch 144/200\n",
            "235/235 - 0s - loss: 0.0518 - root_mean_squared_error: 0.2276 - val_loss: 0.0639 - val_root_mean_squared_error: 0.2528 - 468ms/epoch - 2ms/step\n",
            "Epoch 145/200\n",
            "235/235 - 0s - loss: 0.0523 - root_mean_squared_error: 0.2286 - val_loss: 0.0664 - val_root_mean_squared_error: 0.2577 - 380ms/epoch - 2ms/step\n",
            "Epoch 146/200\n",
            "235/235 - 0s - loss: 0.0520 - root_mean_squared_error: 0.2280 - val_loss: 0.0639 - val_root_mean_squared_error: 0.2528 - 446ms/epoch - 2ms/step\n",
            "Epoch 147/200\n",
            "235/235 - 0s - loss: 0.0522 - root_mean_squared_error: 0.2286 - val_loss: 0.0669 - val_root_mean_squared_error: 0.2587 - 372ms/epoch - 2ms/step\n",
            "Epoch 148/200\n",
            "235/235 - 0s - loss: 0.0527 - root_mean_squared_error: 0.2295 - val_loss: 0.0637 - val_root_mean_squared_error: 0.2523 - 437ms/epoch - 2ms/step\n",
            "Epoch 149/200\n",
            "235/235 - 0s - loss: 0.0518 - root_mean_squared_error: 0.2276 - val_loss: 0.0636 - val_root_mean_squared_error: 0.2521 - 401ms/epoch - 2ms/step\n",
            "Epoch 150/200\n",
            "235/235 - 0s - loss: 0.0520 - root_mean_squared_error: 0.2280 - val_loss: 0.0645 - val_root_mean_squared_error: 0.2540 - 442ms/epoch - 2ms/step\n",
            "Epoch 151/200\n",
            "235/235 - 0s - loss: 0.0522 - root_mean_squared_error: 0.2284 - val_loss: 0.0638 - val_root_mean_squared_error: 0.2527 - 392ms/epoch - 2ms/step\n",
            "Epoch 152/200\n",
            "235/235 - 0s - loss: 0.0519 - root_mean_squared_error: 0.2278 - val_loss: 0.0634 - val_root_mean_squared_error: 0.2518 - 442ms/epoch - 2ms/step\n",
            "Epoch 153/200\n",
            "235/235 - 0s - loss: 0.0520 - root_mean_squared_error: 0.2280 - val_loss: 0.0633 - val_root_mean_squared_error: 0.2515 - 372ms/epoch - 2ms/step\n",
            "Epoch 154/200\n",
            "235/235 - 1s - loss: 0.0519 - root_mean_squared_error: 0.2278 - val_loss: 0.0639 - val_root_mean_squared_error: 0.2527 - 1s/epoch - 4ms/step\n",
            "Epoch 155/200\n",
            "235/235 - 0s - loss: 0.0514 - root_mean_squared_error: 0.2267 - val_loss: 0.0642 - val_root_mean_squared_error: 0.2534 - 480ms/epoch - 2ms/step\n",
            "Epoch 156/200\n",
            "235/235 - 0s - loss: 0.0520 - root_mean_squared_error: 0.2280 - val_loss: 0.0646 - val_root_mean_squared_error: 0.2541 - 376ms/epoch - 2ms/step\n",
            "Epoch 157/200\n",
            "235/235 - 0s - loss: 0.0517 - root_mean_squared_error: 0.2274 - val_loss: 0.0633 - val_root_mean_squared_error: 0.2517 - 466ms/epoch - 2ms/step\n",
            "Epoch 158/200\n",
            "235/235 - 0s - loss: 0.0518 - root_mean_squared_error: 0.2275 - val_loss: 0.0634 - val_root_mean_squared_error: 0.2518 - 451ms/epoch - 2ms/step\n",
            "Epoch 159/200\n",
            "235/235 - 0s - loss: 0.0517 - root_mean_squared_error: 0.2274 - val_loss: 0.0637 - val_root_mean_squared_error: 0.2523 - 399ms/epoch - 2ms/step\n",
            "Epoch 160/200\n",
            "235/235 - 0s - loss: 0.0519 - root_mean_squared_error: 0.2279 - val_loss: 0.0638 - val_root_mean_squared_error: 0.2527 - 438ms/epoch - 2ms/step\n",
            "Epoch 161/200\n",
            "235/235 - 0s - loss: 0.0519 - root_mean_squared_error: 0.2277 - val_loss: 0.0643 - val_root_mean_squared_error: 0.2536 - 445ms/epoch - 2ms/step\n",
            "Epoch 162/200\n",
            "235/235 - 0s - loss: 0.0522 - root_mean_squared_error: 0.2284 - val_loss: 0.0636 - val_root_mean_squared_error: 0.2522 - 457ms/epoch - 2ms/step\n",
            "Epoch 163/200\n",
            "235/235 - 0s - loss: 0.0518 - root_mean_squared_error: 0.2277 - val_loss: 0.0645 - val_root_mean_squared_error: 0.2539 - 439ms/epoch - 2ms/step\n",
            "Epoch 164/200\n",
            "235/235 - 0s - loss: 0.0521 - root_mean_squared_error: 0.2283 - val_loss: 0.0632 - val_root_mean_squared_error: 0.2515 - 387ms/epoch - 2ms/step\n",
            "Epoch 165/200\n",
            "235/235 - 0s - loss: 0.0517 - root_mean_squared_error: 0.2274 - val_loss: 0.0632 - val_root_mean_squared_error: 0.2515 - 443ms/epoch - 2ms/step\n",
            "Epoch 166/200\n",
            "235/235 - 0s - loss: 0.0520 - root_mean_squared_error: 0.2281 - val_loss: 0.0644 - val_root_mean_squared_error: 0.2539 - 378ms/epoch - 2ms/step\n",
            "Epoch 167/200\n",
            "235/235 - 0s - loss: 0.0517 - root_mean_squared_error: 0.2273 - val_loss: 0.0634 - val_root_mean_squared_error: 0.2519 - 441ms/epoch - 2ms/step\n",
            "Epoch 168/200\n",
            "235/235 - 0s - loss: 0.0522 - root_mean_squared_error: 0.2285 - val_loss: 0.0636 - val_root_mean_squared_error: 0.2521 - 440ms/epoch - 2ms/step\n",
            "Epoch 169/200\n",
            "235/235 - 0s - loss: 0.0513 - root_mean_squared_error: 0.2264 - val_loss: 0.0631 - val_root_mean_squared_error: 0.2513 - 460ms/epoch - 2ms/step\n",
            "Epoch 170/200\n",
            "235/235 - 0s - loss: 0.0514 - root_mean_squared_error: 0.2267 - val_loss: 0.0655 - val_root_mean_squared_error: 0.2559 - 369ms/epoch - 2ms/step\n",
            "Epoch 171/200\n",
            "235/235 - 0s - loss: 0.0520 - root_mean_squared_error: 0.2281 - val_loss: 0.0640 - val_root_mean_squared_error: 0.2530 - 457ms/epoch - 2ms/step\n",
            "Epoch 172/200\n",
            "235/235 - 0s - loss: 0.0519 - root_mean_squared_error: 0.2277 - val_loss: 0.0639 - val_root_mean_squared_error: 0.2527 - 448ms/epoch - 2ms/step\n",
            "Epoch 173/200\n",
            "235/235 - 0s - loss: 0.0516 - root_mean_squared_error: 0.2271 - val_loss: 0.0645 - val_root_mean_squared_error: 0.2539 - 392ms/epoch - 2ms/step\n",
            "Epoch 174/200\n",
            "235/235 - 0s - loss: 0.0515 - root_mean_squared_error: 0.2268 - val_loss: 0.0654 - val_root_mean_squared_error: 0.2557 - 374ms/epoch - 2ms/step\n",
            "Epoch 175/200\n",
            "235/235 - 0s - loss: 0.0515 - root_mean_squared_error: 0.2270 - val_loss: 0.0638 - val_root_mean_squared_error: 0.2525 - 440ms/epoch - 2ms/step\n",
            "Epoch 176/200\n",
            "235/235 - 0s - loss: 0.0513 - root_mean_squared_error: 0.2264 - val_loss: 0.0646 - val_root_mean_squared_error: 0.2542 - 393ms/epoch - 2ms/step\n",
            "Epoch 177/200\n",
            "235/235 - 0s - loss: 0.0510 - root_mean_squared_error: 0.2259 - val_loss: 0.0646 - val_root_mean_squared_error: 0.2541 - 373ms/epoch - 2ms/step\n",
            "Epoch 178/200\n",
            "235/235 - 0s - loss: 0.0518 - root_mean_squared_error: 0.2275 - val_loss: 0.0646 - val_root_mean_squared_error: 0.2541 - 372ms/epoch - 2ms/step\n",
            "Epoch 179/200\n",
            "235/235 - 0s - loss: 0.0518 - root_mean_squared_error: 0.2275 - val_loss: 0.0634 - val_root_mean_squared_error: 0.2518 - 390ms/epoch - 2ms/step\n",
            "Epoch 180/200\n",
            "235/235 - 0s - loss: 0.0513 - root_mean_squared_error: 0.2265 - val_loss: 0.0638 - val_root_mean_squared_error: 0.2527 - 359ms/epoch - 2ms/step\n",
            "Epoch 181/200\n",
            "235/235 - 0s - loss: 0.0516 - root_mean_squared_error: 0.2272 - val_loss: 0.0637 - val_root_mean_squared_error: 0.2525 - 401ms/epoch - 2ms/step\n",
            "Epoch 182/200\n",
            "235/235 - 0s - loss: 0.0515 - root_mean_squared_error: 0.2268 - val_loss: 0.0642 - val_root_mean_squared_error: 0.2535 - 368ms/epoch - 2ms/step\n",
            "Epoch 183/200\n",
            "235/235 - 0s - loss: 0.0510 - root_mean_squared_error: 0.2259 - val_loss: 0.0672 - val_root_mean_squared_error: 0.2593 - 387ms/epoch - 2ms/step\n",
            "Epoch 184/200\n",
            "235/235 - 0s - loss: 0.0510 - root_mean_squared_error: 0.2259 - val_loss: 0.0670 - val_root_mean_squared_error: 0.2589 - 384ms/epoch - 2ms/step\n",
            "Epoch 185/200\n",
            "235/235 - 0s - loss: 0.0518 - root_mean_squared_error: 0.2277 - val_loss: 0.0659 - val_root_mean_squared_error: 0.2566 - 439ms/epoch - 2ms/step\n",
            "Epoch 186/200\n",
            "235/235 - 0s - loss: 0.0510 - root_mean_squared_error: 0.2259 - val_loss: 0.0642 - val_root_mean_squared_error: 0.2535 - 446ms/epoch - 2ms/step\n",
            "Epoch 187/200\n",
            "235/235 - 0s - loss: 0.0514 - root_mean_squared_error: 0.2268 - val_loss: 0.0643 - val_root_mean_squared_error: 0.2535 - 382ms/epoch - 2ms/step\n",
            "Epoch 188/200\n",
            "235/235 - 0s - loss: 0.0513 - root_mean_squared_error: 0.2265 - val_loss: 0.0638 - val_root_mean_squared_error: 0.2526 - 389ms/epoch - 2ms/step\n",
            "Epoch 189/200\n",
            "235/235 - 0s - loss: 0.0512 - root_mean_squared_error: 0.2264 - val_loss: 0.0638 - val_root_mean_squared_error: 0.2526 - 485ms/epoch - 2ms/step\n",
            "Epoch 190/200\n",
            "235/235 - 0s - loss: 0.0510 - root_mean_squared_error: 0.2257 - val_loss: 0.0641 - val_root_mean_squared_error: 0.2532 - 374ms/epoch - 2ms/step\n",
            "Epoch 191/200\n",
            "235/235 - 1s - loss: 0.0517 - root_mean_squared_error: 0.2273 - val_loss: 0.0649 - val_root_mean_squared_error: 0.2547 - 1s/epoch - 4ms/step\n",
            "Epoch 192/200\n",
            "235/235 - 0s - loss: 0.0514 - root_mean_squared_error: 0.2267 - val_loss: 0.0635 - val_root_mean_squared_error: 0.2521 - 469ms/epoch - 2ms/step\n",
            "Epoch 193/200\n",
            "235/235 - 0s - loss: 0.0506 - root_mean_squared_error: 0.2251 - val_loss: 0.0648 - val_root_mean_squared_error: 0.2546 - 438ms/epoch - 2ms/step\n",
            "Epoch 194/200\n",
            "235/235 - 0s - loss: 0.0511 - root_mean_squared_error: 0.2260 - val_loss: 0.0642 - val_root_mean_squared_error: 0.2533 - 376ms/epoch - 2ms/step\n",
            "Epoch 195/200\n",
            "235/235 - 0s - loss: 0.0511 - root_mean_squared_error: 0.2261 - val_loss: 0.0640 - val_root_mean_squared_error: 0.2530 - 438ms/epoch - 2ms/step\n",
            "Epoch 196/200\n",
            "235/235 - 0s - loss: 0.0513 - root_mean_squared_error: 0.2264 - val_loss: 0.0660 - val_root_mean_squared_error: 0.2569 - 437ms/epoch - 2ms/step\n",
            "Epoch 197/200\n",
            "235/235 - 0s - loss: 0.0514 - root_mean_squared_error: 0.2267 - val_loss: 0.0639 - val_root_mean_squared_error: 0.2529 - 448ms/epoch - 2ms/step\n",
            "Epoch 198/200\n",
            "235/235 - 0s - loss: 0.0513 - root_mean_squared_error: 0.2266 - val_loss: 0.0645 - val_root_mean_squared_error: 0.2540 - 446ms/epoch - 2ms/step\n",
            "Epoch 199/200\n",
            "235/235 - 0s - loss: 0.0513 - root_mean_squared_error: 0.2265 - val_loss: 0.0638 - val_root_mean_squared_error: 0.2527 - 449ms/epoch - 2ms/step\n",
            "Epoch 200/200\n",
            "235/235 - 0s - loss: 0.0506 - root_mean_squared_error: 0.2250 - val_loss: 0.0643 - val_root_mean_squared_error: 0.2536 - 398ms/epoch - 2ms/step\n",
            "142.58637031799998\n"
          ]
        }
      ]
    },
    {
      "cell_type": "code",
      "metadata": {
        "id": "gHU_1Q4_k5Kn",
        "colab": {
          "base_uri": "https://localhost:8080/",
          "height": 295
        },
        "outputId": "9e480340-dfba-4617-af6d-77a11767f934"
      },
      "source": [
        "\n",
        "plt.plot(hist.history['root_mean_squared_error'])\n",
        "#plt.plot(hist.history['val_root_mean_squared_error'])\n",
        "plt.title('Root Mean Squares Error')\n",
        "plt.xlabel('Epochs')\n",
        "plt.ylabel('error')\n",
        "plt.show()"
      ],
      "execution_count": null,
      "outputs": [
        {
          "output_type": "display_data",
          "data": {
            "text/plain": [
              "<Figure size 432x288 with 1 Axes>"
            ],
            "image/png": "[encoded data removed]"
          },
          "metadata": {
            "needs_background": "light"
          }
        }
      ]
    },
    {
      "cell_type": "code",
      "metadata": {
        "id": "SwjgTjsMlIlc",
        "colab": {
          "base_uri": "https://localhost:8080/"
        },
        "outputId": "7fa3cb5d-e4b2-4e50-aead-7ac672620c26"
      },
      "source": [
        "spfnet.evaluate(X_train, y_train)\n"
      ],
      "execution_count": null,
      "outputs": [
        {
          "output_type": "stream",
          "name": "stdout",
          "text": [
            "235/235 [==============================] - 0s 1ms/step - loss: 0.0508 - root_mean_squared_error: 0.2254\n"
          ]
        },
        {
          "output_type": "execute_result",
          "data": {
            "text/plain": [
              "[0.05080259591341019, 0.22539430856704712]"
            ]
          },
          "metadata": {},
          "execution_count": 17
        }
      ]
    },
    {
      "cell_type": "code",
      "source": [
        " \n",
        "rt1=0\n",
        "itn=50\n",
        "for i in range(itn):\n",
        "  start2 = timeit.default_timer()\n",
        "  y_pred = spfnet.predict(X_test) # get model predictions (scaled inputs here)\n",
        "  end2 = timeit.default_timer()\n",
        "  rt1=rt1+ (end2-start2)\n",
        "  i\n",
        "Results=rt1/itn\n",
        "Results\n",
        "\n",
        " \n",
        " \n"
      ],
      "metadata": {
        "id": "a4oJSSxrqZYg",
        "colab": {
          "base_uri": "https://localhost:8080/"
        },
        "outputId": "1f12ee99-038f-4358-c4c5-ac1bad72d9f6"
      },
      "execution_count": null,
      "outputs": [
        {
          "output_type": "execute_result",
          "data": {
            "text/plain": [
              "0.16046422511999991"
            ]
          },
          "metadata": {},
          "execution_count": 18
        }
      ]
    },
    {
      "cell_type": "code",
      "metadata": {
        "id": "gj3Ic4SrlVOX",
        "colab": {
          "base_uri": "https://localhost:8080/"
        },
        "outputId": "753226f4-1d72-4622-adcc-3cdb7ecb9ae2"
      },
      "source": [
        "from sklearn.metrics import mean_squared_error\n",
        "\n",
        "\n",
        "\n",
        "y_pred_orig = sc_y.inverse_transform(y_pred) # unscale the predictions\n",
        "y_test_orig = sc_y.inverse_transform(y_test) # unscale the true test outcomes\n",
        "\n",
        "RMSE_orig = mean_squared_error(y_pred_orig, y_test_orig, squared=False)\n",
        "RMSE_orig"
      ],
      "execution_count": null,
      "outputs": [
        {
          "output_type": "execute_result",
          "data": {
            "text/plain": [
              "4.355040265565321"
            ]
          },
          "metadata": {},
          "execution_count": 19
        }
      ]
    },
    {
      "cell_type": "code",
      "metadata": {
        "id": "0AG3p7oZla3M",
        "colab": {
          "base_uri": "https://localhost:8080/"
        },
        "outputId": "c6db6991-e8b8-4b41-8c26-984db9ab1626"
      },
      "source": [
        "train_pred = spfnet.predict(X_train) # get model predictions (scaled inputs here)\n",
        "train_pred_orig = sc_y.inverse_transform(train_pred) # unscale the predictions\n",
        "y_train_orig = sc_y.inverse_transform(y_train) # unscale the true train outcomes\n",
        "\n",
        "mean_squared_error(train_pred_orig, y_train_orig, squared=False)"
      ],
      "execution_count": null,
      "outputs": [
        {
          "output_type": "execute_result",
          "data": {
            "text/plain": [
              "3.871290509346447"
            ]
          },
          "metadata": {},
          "execution_count": 20
        }
      ]
    },
    {
      "cell_type": "code",
      "metadata": {
        "id": "ostEfFfnljHh",
        "colab": {
          "base_uri": "https://localhost:8080/"
        },
        "outputId": "4499e3f8-cbaf-4ace-c90c-fa50592bb2e8"
      },
      "source": [
        "from sklearn.metrics import r2_score\n",
        "r2_score(y_pred_orig, y_test_orig)"
      ],
      "execution_count": null,
      "outputs": [
        {
          "output_type": "execute_result",
          "data": {
            "text/plain": [
              "0.9343066381540257"
            ]
          },
          "metadata": {},
          "execution_count": 21
        }
      ]
    },
    {
      "cell_type": "code",
      "metadata": {
        "id": "NkIJxDRYlkN5",
        "colab": {
          "base_uri": "https://localhost:8080/"
        },
        "outputId": "28b5a287-e4c1-4b8c-87d8-dedbd6977978"
      },
      "source": [
        "r2_score(train_pred_orig, y_train_orig)"
      ],
      "execution_count": null,
      "outputs": [
        {
          "output_type": "execute_result",
          "data": {
            "text/plain": [
              "0.9456621229078623"
            ]
          },
          "metadata": {},
          "execution_count": 22
        }
      ]
    },
    {
      "cell_type": "code",
      "metadata": {
        "id": "vODRv44klxFP",
        "colab": {
          "base_uri": "https://localhost:8080/"
        },
        "outputId": "840f5305-e819-4dd2-87ed-6ee13b5a7693"
      },
      "source": [
        "np.concatenate((train_pred_orig, y_train_orig), 1)\n"
      ],
      "execution_count": null,
      "outputs": [
        {
          "output_type": "execute_result",
          "data": {
            "text/plain": [
              "array([[ 1.70243907,  1.11      ],\n",
              "       [29.38104248, 33.46      ],\n",
              "       [-0.58204955,  0.        ],\n",
              "       ...,\n",
              "       [ 1.1509912 ,  0.        ],\n",
              "       [ 1.04759669,  0.        ],\n",
              "       [ 0.82490712,  0.        ]])"
            ]
          },
          "metadata": {},
          "execution_count": 23
        }
      ]
    },
    {
      "cell_type": "code",
      "metadata": {
        "id": "hh1gM3hyly1p",
        "colab": {
          "base_uri": "https://localhost:8080/"
        },
        "outputId": "3e0d6515-f2c2-4911-a90b-b487d508c210"
      },
      "source": [
        "np.concatenate((y_pred_orig, y_test_orig), 1)"
      ],
      "execution_count": null,
      "outputs": [
        {
          "output_type": "execute_result",
          "data": {
            "text/plain": [
              "array([[ 0.68401891,  0.        ],\n",
              "       [43.80212021, 43.39      ],\n",
              "       [ 0.26126459,  0.        ],\n",
              "       ...,\n",
              "       [ 0.39711931,  0.        ],\n",
              "       [10.33969879, 10.31      ],\n",
              "       [ 5.6062789 ,  3.78      ]])"
            ]
          },
          "metadata": {},
          "execution_count": 24
        }
      ]
    },
    {
      "cell_type": "code",
      "metadata": {
        "id": "WCZ8db0_gcWE"
      },
      "source": [
        ""
      ],
      "execution_count": null,
      "outputs": []
    },
    {
      "cell_type": "code",
      "metadata": {
        "id": "QOnSrDwcl-QX",
        "colab": {
          "base_uri": "https://localhost:8080/",
          "height": 404
        },
        "outputId": "4c43f2b0-4b42-4140-a06d-6a2a18c61a8d"
      },
      "source": [
        "plt.figure(figsize=(16,6))\n",
        "plt.subplot(1,2,2)\n",
        "plt.scatter(y_pred_orig, y_test_orig,color=\"black\")\n",
        "plt.xlabel('Predicted generated power on test data')\n",
        "plt.ylabel('Actual generated power on test data')\n",
        "plt.title('Test predictions vs actual data')\n",
        "#plt.scatter(y_test_orig, sc_X.inverse_transform(X_test)[:,2], color='green')\n",
        "plt.subplot(1,2,1)\n",
        "plt.scatter(train_pred_orig, y_train_orig,color=\"black\")\n",
        "plt.xlabel('Predicted generated power on training data')\n",
        "plt.ylabel('Actual generated power on training data')\n",
        "plt.title('Training predictions vs actual data')\n",
        "plt.show()"
      ],
      "execution_count": null,
      "outputs": [
        {
          "output_type": "display_data",
          "data": {
            "text/plain": [
              "<Figure size 1152x432 with 2 Axes>"
            ],
            "image/png": "[encoded data removed]"
          },
          "metadata": {
            "needs_background": "light"
          }
        }
      ]
    },
    {
      "cell_type": "code",
      "metadata": {
        "id": "2nC2nhWj560M",
        "colab": {
          "base_uri": "https://localhost:8080/"
        },
        "outputId": "f9b83a18-08fc-41ac-d37e-914cddf96452"
      },
      "source": [
        "y_pred_orig.min()"
      ],
      "execution_count": null,
      "outputs": [
        {
          "output_type": "execute_result",
          "data": {
            "text/plain": [
              "-2.0331013"
            ]
          },
          "metadata": {},
          "execution_count": 26
        }
      ]
    },
    {
      "cell_type": "code",
      "metadata": {
        "id": "N65rYeRknj6u",
        "colab": {
          "base_uri": "https://localhost:8080/",
          "height": 269
        },
        "outputId": "13e7242e-f533-4825-dc8d-2b1df47131de"
      },
      "source": [
        "results = np.concatenate((y_test_orig, y_pred_orig), 1)\n",
        "mresults=results\n",
        "results = pd.DataFrame(data=results)\n",
        "results.columns = ['Real Solar Power Produced', 'Predicted Solar Power']\n",
        "#results = results.sort_values(by=['Real Solar Power Produced'])\n",
        "pd.options.display.float_format = \"{:,.2f}\".format\n",
        "#results[800:820]\n",
        "results[200:207]"
      ],
      "execution_count": null,
      "outputs": [
        {
          "output_type": "execute_result",
          "data": {
            "text/plain": [
              "     Real Solar Power Produced  Predicted Solar Power\n",
              "200                       0.00                   0.60\n",
              "201                       0.93                   1.57\n",
              "202                      19.69                  17.05\n",
              "203                       0.00                   1.14\n",
              "204                       1.19                   1.76\n",
              "205                       0.00                   0.62\n",
              "206                      36.32                  31.39"
            ],
            "text/html": [
              "\n",
              "  <div id=\"df-39afb30b-ecf1-4fd5-95e7-c9d178baf9d6\">\n",
              "    <div class=\"colab-df-container\">\n",
              "      <div>\n",
              "<style scoped>\n",
              "    .dataframe tbody tr th:only-of-type {\n",
              "        vertical-align: middle;\n",
              "    }\n",
              "\n",
              "    .dataframe tbody tr th {\n",
              "        vertical-align: top;\n",
              "    }\n",
              "\n",
              "    .dataframe thead th {\n",
              "        text-align: right;\n",
              "    }\n",
              "</style>\n",
              "<table border=\"1\" class=\"dataframe\">\n",
              "  <thead>\n",
              "    <tr style=\"text-align: right;\">\n",
              "      <th></th>\n",
              "      <th>Real Solar Power Produced</th>\n",
              "      <th>Predicted Solar Power</th>\n",
              "    </tr>\n",
              "  </thead>\n",
              "  <tbody>\n",
              "    <tr>\n",
              "      <th>200</th>\n",
              "      <td>0.00</td>\n",
              "      <td>0.60</td>\n",
              "    </tr>\n",
              "    <tr>\n",
              "      <th>201</th>\n",
              "      <td>0.93</td>\n",
              "      <td>1.57</td>\n",
              "    </tr>\n",
              "    <tr>\n",
              "      <th>202</th>\n",
              "      <td>19.69</td>\n",
              "      <td>17.05</td>\n",
              "    </tr>\n",
              "    <tr>\n",
              "      <th>203</th>\n",
              "      <td>0.00</td>\n",
              "      <td>1.14</td>\n",
              "    </tr>\n",
              "    <tr>\n",
              "      <th>204</th>\n",
              "      <td>1.19</td>\n",
              "      <td>1.76</td>\n",
              "    </tr>\n",
              "    <tr>\n",
              "      <th>205</th>\n",
              "      <td>0.00</td>\n",
              "      <td>0.62</td>\n",
              "    </tr>\n",
              "    <tr>\n",
              "      <th>206</th>\n",
              "      <td>36.32</td>\n",
              "      <td>31.39</td>\n",
              "    </tr>\n",
              "  </tbody>\n",
              "</table>\n",
              "</div>\n",
              "      <button class=\"colab-df-convert\" onclick=\"convertToInteractive('df-39afb30b-ecf1-4fd5-95e7-c9d178baf9d6')\"\n",
              "              title=\"Convert this dataframe to an interactive table.\"\n",
              "              style=\"display:none;\">\n",
              "        \n",
              "  <svg xmlns=\"http://www.w3.org/2000/svg\" height=\"24px\"viewBox=\"0 0 24 24\"\n",
              "       width=\"24px\">\n",
              "    <path d=\"M0 0h24v24H0V0z\" fill=\"none\"/>\n",
              "    <path d=\"M18.56 5.44l.94 2.06.94-2.06 2.06-.94-2.06-.94-.94-2.06-.94 2.06-2.06.94zm-11 1L8.5 8.5l.94-2.06 2.06-.94-2.06-.94L8.5 2.5l-.94 2.06-2.06.94zm10 10l.94 2.06.94-2.06 2.06-.94-2.06-.94-.94-2.06-.94 2.06-2.06.94z\"/><path d=\"M17.41 7.96l-1.37-1.37c-.4-.4-.92-.59-1.43-.59-.52 0-1.04.2-1.43.59L10.3 9.45l-7.72 7.72c-.78.78-.78 2.05 0 2.83L4 21.41c.39.39.9.59 1.41.59.51 0 1.02-.2 1.41-.59l7.78-7.78 2.81-2.81c.8-.78.8-2.07 0-2.86zM5.41 20L4 18.59l7.72-7.72 1.47 1.35L5.41 20z\"/>\n",
              "  </svg>\n",
              "      </button>\n",
              "      \n",
              "  <style>\n",
              "    .colab-df-container {\n",
              "      display:flex;\n",
              "      flex-wrap:wrap;\n",
              "      gap: 12px;\n",
              "    }\n",
              "\n",
              "    .colab-df-convert {\n",
              "      background-color: #E8F0FE;\n",
              "      border: none;\n",
              "      border-radius: 50%;\n",
              "      cursor: pointer;\n",
              "      display: none;\n",
              "      fill: #1967D2;\n",
              "      height: 32px;\n",
              "      padding: 0 0 0 0;\n",
              "      width: 32px;\n",
              "    }\n",
              "\n",
              "    .colab-df-convert:hover {\n",
              "      background-color: #E2EBFA;\n",
              "      box-shadow: 0px 1px 2px rgba(60, 64, 67, 0.3), 0px 1px 3px 1px rgba(60, 64, 67, 0.15);\n",
              "      fill: #174EA6;\n",
              "    }\n",
              "\n",
              "    [theme=dark] .colab-df-convert {\n",
              "      background-color: #3B4455;\n",
              "      fill: #D2E3FC;\n",
              "    }\n",
              "\n",
              "    [theme=dark] .colab-df-convert:hover {\n",
              "      background-color: #434B5C;\n",
              "      box-shadow: 0px 1px 3px 1px rgba(0, 0, 0, 0.15);\n",
              "      filter: drop-shadow(0px 1px 2px rgba(0, 0, 0, 0.3));\n",
              "      fill: #FFFFFF;\n",
              "    }\n",
              "  </style>\n",
              "\n",
              "      <script>\n",
              "        const buttonEl =\n",
              "          document.querySelector('#df-39afb30b-ecf1-4fd5-95e7-c9d178baf9d6 button.colab-df-convert');\n",
              "        buttonEl.style.display =\n",
              "          google.colab.kernel.accessAllowed ? 'block' : 'none';\n",
              "\n",
              "        async function convertToInteractive(key) {\n",
              "          const element = document.querySelector('#df-39afb30b-ecf1-4fd5-95e7-c9d178baf9d6');\n",
              "          const dataTable =\n",
              "            await google.colab.kernel.invokeFunction('convertToInteractive',\n",
              "                                                     [key], {});\n",
              "          if (!dataTable) return;\n",
              "\n",
              "          const docLinkHtml = 'Like what you see? Visit the ' +\n",
              "            '<a target=\"_blank\" href=https://colab.research.google.com/notebooks/data_table.ipynb>data table notebook</a>'\n",
              "            + ' to learn more about interactive tables.';\n",
              "          element.innerHTML = '';\n",
              "          dataTable['output_type'] = 'display_data';\n",
              "          await google.colab.output.renderOutput(dataTable, element);\n",
              "          const docLink = document.createElement('div');\n",
              "          docLink.innerHTML = docLinkHtml;\n",
              "          element.appendChild(docLink);\n",
              "        }\n",
              "      </script>\n",
              "    </div>\n",
              "  </div>\n",
              "  "
            ]
          },
          "metadata": {},
          "execution_count": 27
        }
      ]
    },
    {
      "cell_type": "code",
      "metadata": {
        "id": "Ha5mt9rTnqDP",
        "colab": {
          "base_uri": "https://localhost:8080/"
        },
        "outputId": "06ef2c52-d3c9-4fd7-8ca3-0b47c74a8168"
      },
      "source": [
        "sc = StandardScaler()\n",
        "pred_whole = spfnet.predict(sc.fit_transform(X))\n",
        "pred_whole_orig = sc_y.inverse_transform(pred_whole)\n",
        "pred_whole_orig"
      ],
      "execution_count": null,
      "outputs": [
        {
          "output_type": "execute_result",
          "data": {
            "text/plain": [
              "array([[0.6014069 ],\n",
              "       [0.6401251 ],\n",
              "       [0.7147272 ],\n",
              "       ...,\n",
              "       [0.23979452],\n",
              "       [0.32063368],\n",
              "       [0.3448713 ]], dtype=float32)"
            ]
          },
          "metadata": {},
          "execution_count": 28
        }
      ]
    },
    {
      "cell_type": "code",
      "metadata": {
        "id": "XLU-cJi8okjy",
        "colab": {
          "base_uri": "https://localhost:8080/",
          "height": 238
        },
        "outputId": "c9770f0b-1aed-4578-c53c-1d9037c01f4a"
      },
      "source": [
        "df_results = pd.DataFrame.from_dict({\n",
        "    'R2 Score of Whole Data Frame': r2_score(pred_whole_orig, y),\n",
        "    'R2 Score of Training Set': r2_score(train_pred_orig, y_train_orig),\n",
        "    'R2 Score of Test Set': r2_score(y_pred_orig, y_test_orig),\n",
        "    'Mean of Test Set': np.mean(y_pred_orig),\n",
        "    'Standard Deviation pf Test Set': np.std(y_pred_orig),\n",
        "    'Relative Standard Deviation': np.std(y_pred_orig) / np.mean(y_pred_orig),\n",
        "},orient='index', columns=['Value'])\n",
        "display(df_results.style.background_gradient(cmap='afmhot', axis=0))"
      ],
      "execution_count": null,
      "outputs": [
        {
          "output_type": "display_data",
          "data": {
            "text/plain": [
              "<pandas.io.formats.style.Styler at 0x7f2efb947590>"
            ],
            "text/html": [
              "<style type=\"text/css\">\n",
              "#T_46afe_row0_col0, #T_46afe_row1_col0, #T_46afe_row2_col0 {\n",
              "  background-color: #000000;\n",
              "  color: #f1f1f1;\n",
              "}\n",
              "#T_46afe_row3_col0 {\n",
              "  background-color: #fff677;\n",
              "  color: #000000;\n",
              "}\n",
              "#T_46afe_row4_col0 {\n",
              "  background-color: #ffffff;\n",
              "  color: #000000;\n",
              "}\n",
              "#T_46afe_row5_col0 {\n",
              "  background-color: #0c0000;\n",
              "  color: #f1f1f1;\n",
              "}\n",
              "</style>\n",
              "<table id=\"T_46afe_\" class=\"dataframe\">\n",
              "  <thead>\n",
              "    <tr>\n",
              "      <th class=\"blank level0\" >&nbsp;</th>\n",
              "      <th class=\"col_heading level0 col0\" >Value</th>\n",
              "    </tr>\n",
              "  </thead>\n",
              "  <tbody>\n",
              "    <tr>\n",
              "      <th id=\"T_46afe_level0_row0\" class=\"row_heading level0 row0\" >R2 Score of Whole Data Frame</th>\n",
              "      <td id=\"T_46afe_row0_col0\" class=\"data row0 col0\" >0.942374</td>\n",
              "    </tr>\n",
              "    <tr>\n",
              "      <th id=\"T_46afe_level0_row1\" class=\"row_heading level0 row1\" >R2 Score of Training Set</th>\n",
              "      <td id=\"T_46afe_row1_col0\" class=\"data row1 col0\" >0.945662</td>\n",
              "    </tr>\n",
              "    <tr>\n",
              "      <th id=\"T_46afe_level0_row2\" class=\"row_heading level0 row2\" >R2 Score of Test Set</th>\n",
              "      <td id=\"T_46afe_row2_col0\" class=\"data row2 col0\" >0.934307</td>\n",
              "    </tr>\n",
              "    <tr>\n",
              "      <th id=\"T_46afe_level0_row3\" class=\"row_heading level0 row3\" >Mean of Test Set</th>\n",
              "      <td id=\"T_46afe_row3_col0\" class=\"data row3 col0\" >12.704811</td>\n",
              "    </tr>\n",
              "    <tr>\n",
              "      <th id=\"T_46afe_level0_row4\" class=\"row_heading level0 row4\" >Standard Deviation pf Test Set</th>\n",
              "      <td id=\"T_46afe_row4_col0\" class=\"data row4 col0\" >16.991488</td>\n",
              "    </tr>\n",
              "    <tr>\n",
              "      <th id=\"T_46afe_level0_row5\" class=\"row_heading level0 row5\" >Relative Standard Deviation</th>\n",
              "      <td id=\"T_46afe_row5_col0\" class=\"data row5 col0\" >1.337406</td>\n",
              "    </tr>\n",
              "  </tbody>\n",
              "</table>\n"
            ]
          },
          "metadata": {}
        }
      ]
    },
    {
      "cell_type": "code",
      "source": [
        "y_test"
      ],
      "metadata": {
        "colab": {
          "base_uri": "https://localhost:8080/"
        },
        "id": "GE4fUQfz3Q6T",
        "outputId": "c28792e6-e994-4354-c98a-b30dc1391a69"
      },
      "execution_count": null,
      "outputs": [
        {
          "output_type": "execute_result",
          "data": {
            "text/plain": [
              "array([[-0.6910274 ],\n",
              "       [ 1.83522585],\n",
              "       [-0.6910274 ],\n",
              "       ...,\n",
              "       [-0.6910274 ],\n",
              "       [-0.09075842],\n",
              "       [-0.47094818]])"
            ]
          },
          "metadata": {},
          "execution_count": 30
        }
      ]
    },
    {
      "cell_type": "code",
      "source": [
        "y_pred"
      ],
      "metadata": {
        "colab": {
          "base_uri": "https://localhost:8080/"
        },
        "id": "wLTq0xaZ3NE6",
        "outputId": "7174333d-8b58-4ffa-b347-6ac6f28629fb"
      },
      "execution_count": null,
      "outputs": [
        {
          "output_type": "execute_result",
          "data": {
            "text/plain": [
              "array([[-0.65120244],\n",
              "       [ 1.8592204 ],\n",
              "       [-0.67581606],\n",
              "       ...,\n",
              "       [-0.6679063 ],\n",
              "       [-0.08902931],\n",
              "       [-0.36461854]], dtype=float32)"
            ]
          },
          "metadata": {},
          "execution_count": 31
        }
      ]
    },
    {
      "cell_type": "code",
      "source": [
        "y_test=y_test_orig\n",
        "y_pred =y_pred_orig\n",
        "\n",
        "\n",
        "ym =np.max(y_test)\n",
        "#per1=np.array([0.1, 0.2, 0.3, 0.4, 0.5, 0.6, 0.7, 0.8, 0.9, 1])  #  10%-20%, 20%-30% ,.... , 90%-100%\n",
        "per1=np.array([0, 0.2,  0.4,  0.6, 0.8, 1])\n",
        "#per1=np.array([0, 1]) # 0-100%\n",
        "\n",
        "\n",
        "\n",
        "\n",
        "from sklearn.metrics import r2_score\n",
        "from sklearn.metrics import mean_squared_error\n",
        "\n",
        "for i, pv in enumerate(per1):\n",
        "\n",
        "  #print(i, per1.size)\n",
        "\n",
        "  if i != (per1.size-1):\n",
        "   # print(per1[i], per1[i+1])\n",
        "\n",
        "    ym1=ym*per1[i]\n",
        "    ym2=ym*per1[i+1] \n",
        "\n",
        "    loc1=np.where((y_test >= ym1) & (y_test <= ym2) )\n",
        "    \n",
        " \n",
        "    yt_test=y_test[loc1]\n",
        "    yt_pred=y_pred[loc1]\n",
        "\n",
        "   \n",
        "   # r2=r2_score(yt_pred, yt_test)\n",
        "\n",
        "   # r2=r2_score(y_pred, y_test)\n",
        "    rmse = mean_squared_error(yt_test, yt_pred, squared=False)\n",
        "    #print(r2, rmse)\n",
        "\n",
        "    print(rmse)\n",
        "\n",
        "\n",
        "\n"
      ],
      "metadata": {
        "colab": {
          "base_uri": "https://localhost:8080/"
        },
        "id": "WTGKFDG-wurL",
        "outputId": "13436b2e-d7f2-4f87-d928-50f4e06fdfe1"
      },
      "execution_count": null,
      "outputs": [
        {
          "output_type": "stream",
          "name": "stdout",
          "text": [
            "1.4027142134093156\n",
            "7.918518576388756\n",
            "6.521327047142575\n",
            "5.345428099119268\n",
            "10.309510730079566\n"
          ]
        }
      ]
    },
    {
      "cell_type": "code",
      "source": [
        "y_test=y_test_orig\n",
        "y_pred =y_pred_orig\n",
        "\n",
        "\n",
        "n_zeros = np.count_nonzero(y_test==0)\n",
        "# display the count of zeros\n",
        "print(n_zeros)\n",
        "#print(y_test.size)\n",
        "print('---------------------')\n",
        "\n",
        "D=abs(y_pred-y_test)/y_test\n",
        "\n",
        "\n",
        "y0_l = np.where(y_test==0)  \n",
        "y_pred_z= y_pred [y0_l]\n",
        "y_test_z= y_test [y0_l]\n",
        "\n",
        "Dz=abs(y_pred_z-y_test_z)\n",
        "df = pd.DataFrame(Dz)\n",
        "df.to_csv('Dz.csv')\n",
        "\n",
        "\n",
        "\n",
        "\n",
        "\n",
        "print(np.count_nonzero(y_pred_z==0))\n",
        "print(y_test_z)\n",
        "\n",
        "\n",
        "t1=np.count_nonzero(np.isinf(D))\n",
        "t2=np.count_nonzero(np.isnan(D))\n",
        "t3=t1+t2\n",
        "print(t2)\n",
        "print('---------------------')\n",
        "\n",
        "\n",
        "n_l = np.where(np.isnan(D))   # Make zero by zero into  D=0;\n",
        "D[n_l]=0\n",
        "\n",
        "\n",
        "\n",
        "\n",
        "i_l = np.where(np.isinf(D))   # Dividing by zer oadjustment\n",
        "D[i_l]=2*abs(y_pred[i_l])/(y_test[i_l] + y_pred[i_l])\n",
        "\n",
        "print(D)\n",
        "print('-------------')\n",
        "\n",
        "\n",
        "\n",
        "\n",
        "\n",
        "D1=np.sort(D, axis=None)\n",
        "\n",
        "#print(D1)\n",
        "\n",
        "ld=D1.size\n",
        "\n",
        "# per1=np.array([0.05, 0.1, 0.15, 0.2, 0.25,  0.3, 0.35, 0.4, 0.45, 0.5, 0.55, 0.6, 0.65, 0.7, 0.75, 0.8, 0.85, 0.9, 0.95, 1 ])\n",
        "#per1= np.linspace(2, 100,50)/100\n",
        "per1= np.linspace(10, 100,10)/100\n",
        "\n",
        "print(per1)\n",
        "#D1 = np.array(D1)\n",
        "\n",
        "ploc=ld*per1-1\n",
        "ploc=ploc.astype(int)\n",
        "print(ploc)\n",
        "\n",
        "closeness=D1[ploc]\n",
        "\n",
        "#closeness= np.take(D1, ploc)\n",
        "\n",
        "\n",
        "\n",
        "print(closeness)\n",
        "\n",
        "\n",
        "\n",
        "i50=round(ld*0.5)\n",
        "i75=round(ld*0.75)\n",
        "i90=round(ld*0.90)\n",
        "\n",
        "d50=D1[i50-1]\n",
        "d75=D1[i75-1]\n",
        "d90=D1[i90-1]\n",
        "\n",
        "c2=[ d90 ]\n",
        "\n",
        "\n",
        "df = pd.DataFrame(closeness)\n",
        "df.to_csv('closeness.csv')\n"
      ],
      "metadata": {
        "id": "7_EvC5mZBJ2M",
        "colab": {
          "base_uri": "https://localhost:8080/"
        },
        "outputId": "ff073110-a052-487e-ad5e-085ded05a510"
      },
      "execution_count": null,
      "outputs": [
        {
          "output_type": "stream",
          "name": "stdout",
          "text": [
            "1140\n",
            "---------------------\n",
            "0\n",
            "[0. 0. 0. ... 0. 0. 0.]\n",
            "0\n",
            "---------------------\n",
            "[[2.        ]\n",
            " [0.00949805]\n",
            " [2.        ]\n",
            " ...\n",
            " [2.        ]\n",
            " [0.00288058]\n",
            " [0.48314257]]\n",
            "-------------\n",
            "[0.1 0.2 0.3 0.4 0.5 0.6 0.7 0.8 0.9 1. ]\n",
            "[ 249  499  749  999 1249 1499 1749 1999 2249 2499]\n",
            "[9.61692641e-03 4.14433318e-02 9.39776702e-02 2.05046969e-01\n",
            " 5.21243193e-01 2.00000000e+00 2.00000000e+00 2.00000000e+00\n",
            " 2.00000000e+00 7.89788296e+01]\n"
          ]
        },
        {
          "output_type": "stream",
          "name": "stderr",
          "text": [
            "/usr/local/lib/python3.7/dist-packages/ipykernel_launcher.py:11: RuntimeWarning: divide by zero encountered in true_divide\n",
            "  # This is added back by InteractiveShellApp.init_path()\n"
          ]
        }
      ]
    },
    {
      "cell_type": "code",
      "source": [
        "\n",
        "y_test=y_test_orig\n",
        "y_pred =y_pred_orig\n",
        "\n",
        "D=abs(y_pred-y_test)\n",
        "D1=np.sort(D, axis=None)\n",
        "\n",
        "#print(D1)\n",
        "\n",
        "ld=D1.size\n",
        "\n",
        "# per1=np.array([0.05, 0.1, 0.15, 0.2, 0.25,  0.3, 0.35, 0.4, 0.45, 0.5, 0.55, 0.6, 0.65, 0.7, 0.75, 0.8, 0.85, 0.9, 0.95, 1 ])\n",
        "#per1= np.linspace(2, 100,50)/100\n",
        "per1= np.linspace(10, 100,10)/100\n",
        "\n",
        "\n",
        "#D1 = np.array(D1)\n",
        "\n",
        "ploc=ld*per1-1\n",
        "ploc=ploc.astype(int)\n",
        "print(ploc)\n",
        "\n",
        "ae=D1[ploc]\n",
        "\n",
        "#closeness= np.take(D1, ploc)\n",
        "\n",
        "\n",
        "\n",
        "print(ae)\n",
        "\n",
        "\n",
        "\n",
        "i50=round(ld*0.5)\n",
        "i75=round(ld*0.75)\n",
        "i90=round(ld*0.90)\n",
        "\n",
        "d50=D1[i50-1]\n",
        "d75=D1[i75-1]\n",
        "d90=D1[i90-1]\n",
        "\n",
        "c2=[ d90 ]\n",
        "\n",
        "\n",
        "df = pd.DataFrame(ae)\n",
        "df.to_csv('AE.csv')\n"
      ],
      "metadata": {
        "colab": {
          "base_uri": "https://localhost:8080/"
        },
        "id": "uAdX9Mrh-TBr",
        "outputId": "534a1760-d872-48ab-c55f-57f329fd79c4"
      },
      "execution_count": null,
      "outputs": [
        {
          "output_type": "stream",
          "name": "stdout",
          "text": [
            "[ 249  499  749  999 1249 1499 1749 1999 2249 2499]\n",
            "[ 0.19855806  0.32875422  0.4556021   0.59559982  0.71871549  0.84858795\n",
            "  1.11626605  1.92011971  4.38246964 37.00981647]\n"
          ]
        }
      ]
    }
  ]
}